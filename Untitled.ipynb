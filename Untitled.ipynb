{
 "cells": [
  {
   "cell_type": "code",
   "execution_count": 1,
   "id": "4a78a1f8-7ce2-4a8d-b7a8-cb8431541229",
   "metadata": {},
   "outputs": [
    {
     "name": "stdout",
     "output_type": "stream",
     "text": [
      "Hi Shourya\n",
      "Hi Avyaan\n"
     ]
    }
   ],
   "source": [
    "friends = ['Shourya','Avyaan']\n",
    "for friend in friends:\n",
    "    print(\"Hi \" + friend)"
   ]
  },
  {
   "cell_type": "code",
   "execution_count": 9,
   "id": "a5222577-05c3-4e15-853e-1a588f0b00c6",
   "metadata": {},
   "outputs": [
    {
     "name": "stdout",
     "output_type": "stream",
     "text": [
      "value=1\n",
      "value=1\n",
      "value=1\n",
      "value=2\n",
      "value=2\n",
      "value=2\n",
      "value=3\n",
      "value=3\n",
      "value=3\n",
      "value=4\n",
      "value=4\n",
      "value=4\n",
      "value=5\n",
      "value=5\n",
      "value=5\n",
      "value=6\n",
      "value=6\n",
      "value=6\n",
      "value=7\n",
      "value=7\n",
      "value=7\n",
      "value=8\n",
      "value=8\n",
      "value=8\n",
      "value=9\n",
      "value=9\n",
      "value=9\n",
      "value=10\n",
      "value=10\n",
      "value=10\n"
     ]
    }
   ],
   "source": [
    "for i in range(1,11):\n",
    "    print (f\"value={i}\")\n",
    "    print (\"value=%s\"%i)\n",
    "    print (\"value=\" + str(i))"
   ]
  },
  {
   "cell_type": "code",
   "execution_count": 6,
   "id": "1e34588a-f346-4c7c-bc12-f841b56dafef",
   "metadata": {},
   "outputs": [
    {
     "name": "stdout",
     "output_type": "stream",
     "text": [
      "[10, 11, 12, 13, 14, 15, 16, 17, 18, 19, 20]\n"
     ]
    }
   ],
   "source": [
    "# Python program to generate numbers in an interval using a list comprehension\n",
    "l = 10\n",
    "u = 20\n",
    "numbers = [num for num in range(l, u+1)]\n",
    "print(numbers)"
   ]
  },
  {
   "cell_type": "code",
   "execution_count": 2,
   "id": "f3128f6d-a918-4439-8b3c-82699c423d3c",
   "metadata": {},
   "outputs": [
    {
     "name": "stdout",
     "output_type": "stream",
     "text": [
      "57.6650390625\n"
     ]
    }
   ],
   "source": [
    "print((((1+2)*3)/4)**5)"
   ]
  },
  {
   "cell_type": "code",
   "execution_count": 8,
   "id": "05d53675-a62b-4b4e-b018-195369490b5c",
   "metadata": {},
   "outputs": [
    {
     "name": "stdout",
     "output_type": "stream",
     "text": [
      "Quotient=32 , Remainder=1\n",
      "Division=32.333333333333336\n"
     ]
    }
   ],
   "source": [
    "dividend=97\n",
    "divisor=3\n",
    "print(f\"Quotient={dividend//divisor} , Remainder={dividend%divisor}\")\n",
    "print(f\"Division={dividend/divisor}\")"
   ]
  },
  {
   "cell_type": "code",
   "execution_count": 13,
   "id": "77ffc2fb-5d4a-4159-9268-a23a7eb308be",
   "metadata": {},
   "outputs": [],
   "source": [
    "def greeting(name):\n",
    "    print(\"Welcome \"+name)"
   ]
  },
  {
   "cell_type": "code",
   "execution_count": 14,
   "id": "8f6322a5-6a59-4245-889d-a6649e5ac545",
   "metadata": {},
   "outputs": [
    {
     "name": "stdout",
     "output_type": "stream",
     "text": [
      "Welcome Amit\n"
     ]
    }
   ],
   "source": [
    "greeting (\"Amit\")"
   ]
  },
  {
   "cell_type": "code",
   "execution_count": 15,
   "id": "038ce32e-e0cd-4ee1-aa88-5bb69c310b56",
   "metadata": {},
   "outputs": [],
   "source": [
    "def area_of_triangle(base, height):\n",
    "    return (base*height)/2\n"
   ]
  },
  {
   "cell_type": "code",
   "execution_count": 16,
   "id": "47e790d0-0711-4a56-9ee3-22e989fd14b3",
   "metadata": {},
   "outputs": [
    {
     "name": "stdout",
     "output_type": "stream",
     "text": [
      "Sum of both areas is: 20.5\n"
     ]
    }
   ],
   "source": [
    "area_a=area_of_triangle(5,4)\n",
    "area_b=area_of_triangle(7,3)\n",
    "sum=area_a+area_b\n",
    "print (\"Sum of both areas is: \" + str (sum) )"
   ]
  },
  {
   "cell_type": "code",
   "execution_count": 17,
   "id": "0b398787-3baa-447b-99ef-2920060df3a3",
   "metadata": {},
   "outputs": [],
   "source": [
    "def convert_seconds(seconds):\n",
    "    hours=seconds//3600\n",
    "    minutes=(seconds-(hours*3600))//60\n",
    "    remaining_seconds=seconds-(hours*3600)-(minutes*60)\n",
    "    return hours, minutes, remaining_seconds"
   ]
  },
  {
   "cell_type": "code",
   "execution_count": 24,
   "id": "a9ad482c-6f74-4c9b-a310-5feff15159ad",
   "metadata": {},
   "outputs": [
    {
     "name": "stdout",
     "output_type": "stream",
     "text": [
      "1 Hour/s 1 Minute/s 20 Second/s\n"
     ]
    }
   ],
   "source": [
    "hours,minutes,seconds=convert_seconds(3680)\n",
    "print (str(hours)+\" Hour/s \" + str(minutes) + \" Minute/s \" + str(seconds) + \" Second/s\")"
   ]
  },
  {
   "cell_type": "code",
   "execution_count": 27,
   "id": "05130a42-63ea-401d-9e20-4a6d42e5982e",
   "metadata": {},
   "outputs": [
    {
     "name": "stdout",
     "output_type": "stream",
     "text": [
      "False\n"
     ]
    }
   ],
   "source": [
    "print (23 > 28 and 45 < 55) "
   ]
  },
  {
   "cell_type": "code",
   "execution_count": 40,
   "id": "99e54544-4cea-441b-b0a1-4bf92f142b8e",
   "metadata": {},
   "outputs": [],
   "source": [
    "def check_number_greater_than (mynum):\n",
    "    if mynum > 100 and mynum < 1000:\n",
    "        print (\"It is greater than 100\")\n",
    "    elif mynum > 1000:\n",
    "        print (\"It is greater than 1000\")\n",
    "    else:\n",
    "        print (\"No, it is smaller than 100\")"
   ]
  },
  {
   "cell_type": "code",
   "execution_count": 42,
   "id": "4ff7bb77-bd61-4d61-bbb0-b5e45c3897f7",
   "metadata": {},
   "outputs": [
    {
     "name": "stdout",
     "output_type": "stream",
     "text": [
      "It is greater than 1000\n"
     ]
    }
   ],
   "source": [
    "check_number_greater_than (10000)"
   ]
  },
  {
   "cell_type": "code",
   "execution_count": 59,
   "id": "72e1e87b-f53d-41fe-b3b8-1f4e71e575d3",
   "metadata": {},
   "outputs": [
    {
     "name": "stdout",
     "output_type": "stream",
     "text": [
      "2048\n"
     ]
    }
   ],
   "source": [
    "print (4096)"
   ]
  },
  {
   "cell_type": "code",
   "execution_count": 56,
   "id": "8ede709d-7e7c-49ee-9663-7224f15e3305",
   "metadata": {},
   "outputs": [
    {
     "name": "stdout",
     "output_type": "stream",
     "text": [
      "Full block = 0, Remainder = 0\n",
      "0\n",
      "Full block = 1, Remainder = 0\n",
      "4096\n",
      "Full block = 1, Remainder = 4096\n",
      "4096\n",
      "Full block = 1, Remainder = 4096\n",
      "4096\n"
     ]
    }
   ],
   "source": [
    "def calculate_storage(filesize):\n",
    "    block_size = 4096\n",
    "    \n",
    "    # Use floor division to calculate how many blocks are fully occupied\n",
    "    full_blocks = (filesize//block_size)\n",
    "    \n",
    "    # Use the modulo operator to check whether there's any remainder\n",
    "    partial_block_remainder = block_size % filesize\n",
    "    \n",
    "    # Depending on whether there's a remainder or not, return\n",
    "    # the total number of bytes required to allocate enough blocks\n",
    "    # to store your data.\n",
    "    print (\"Full block = \"+ str(full_blocks) + \", Remainder = \"+ str(partial_block_remainder))    \n",
    "    \n",
    "    if partial_block_remainder > 0:\n",
    "        return block_size*full_blocks\n",
    "    return block_size*full_blocks\n",
    "\n",
    "\n",
    "\n",
    "print(calculate_storage(1))    # Should be 4096\n",
    "print(calculate_storage(4096)) # Should be 4096\n",
    "\n",
    "print(calculate_storage(4097)) # Should be 8192\n",
    "print(calculate_storage(6000)) # Should be 8192"
   ]
  },
  {
   "cell_type": "code",
   "execution_count": 73,
   "id": "05024181-48dc-4b48-bb9b-d5bbbb38579b",
   "metadata": {},
   "outputs": [
    {
     "name": "stdout",
     "output_type": "stream",
     "text": [
      "floor_divisor = 0, remainder =  1\n",
      "floor_divisor = 1, remainder =  0\n",
      "floor_divisor = 1, remainder =  3\n"
     ]
    },
    {
     "data": {
      "text/plain": [
       "8192"
      ]
     },
     "execution_count": 73,
     "metadata": {},
     "output_type": "execute_result"
    }
   ],
   "source": [
    "def print_floor_divisor_and_remainder (filesize):\n",
    "    block_size=4096\n",
    "    floor_divisor=(filesize//block_size)\n",
    "    remainder=(filesize%block_size)\n",
    "    print (\"floor_divisor = \" + str(floor_divisor) + \", remainder =  \"+ str(remainder) )\n",
    "    \n",
    "    if remainder > 0:\n",
    "        return (block_size * (floor_divisor+1) )\n",
    "    return (block_size * (floor_divisor) ) \n",
    "\n",
    "    \n",
    "print_floor_divisor_and_remainder (1)    # 4096\n",
    "print_floor_divisor_and_remainder (4096) # 4096   \n",
    "print_floor_divisor_and_remainder (4099) # 8192   "
   ]
  },
  {
   "cell_type": "code",
   "execution_count": 67,
   "id": "dfdcda47-11a4-4e6b-9a57-123c6b4a1942",
   "metadata": {},
   "outputs": [
    {
     "name": "stdout",
     "output_type": "stream",
     "text": [
      "False\n"
     ]
    }
   ],
   "source": [
    "print (\"big\" > \"small\")"
   ]
  },
  {
   "cell_type": "code",
   "execution_count": 68,
   "id": "80e0330a-5c84-414f-80e1-417e0b007915",
   "metadata": {},
   "outputs": [
    {
     "data": {
      "text/plain": [
       "2.5"
      ]
     },
     "execution_count": 68,
     "metadata": {},
     "output_type": "execute_result"
    }
   ],
   "source": [
    "5/2"
   ]
  },
  {
   "cell_type": "code",
   "execution_count": 69,
   "id": "7d577c42-f2fb-4314-82a8-5d7c6468ccb9",
   "metadata": {},
   "outputs": [
    {
     "data": {
      "text/plain": [
       "1.6666666666666667"
      ]
     },
     "execution_count": 69,
     "metadata": {},
     "output_type": "execute_result"
    }
   ],
   "source": [
    "5/3"
   ]
  },
  {
   "cell_type": "code",
   "execution_count": 75,
   "id": "15251e13-bf81-4055-b284-ce8339e5fefb",
   "metadata": {},
   "outputs": [
    {
     "name": "stdout",
     "output_type": "stream",
     "text": [
      "['my name is nik', ' welcome to datagy']\n"
     ]
    }
   ],
   "source": [
    "import re\n",
    "\n",
    "sample_string = 'my name is nik, welcome to datagy'\n",
    "split_string = re.split(',', sample_string)\n",
    "\n",
    "print(split_string)\n"
   ]
  },
  {
   "cell_type": "code",
   "execution_count": 81,
   "id": "412edf9c-39cb-41ae-9bff-314cfa45adb0",
   "metadata": {},
   "outputs": [
    {
     "name": "stdout",
     "output_type": "stream",
     "text": [
      "7\n",
      "14\n",
      "21\n",
      "28\n",
      "35\n",
      "42\n",
      "49\n",
      "56\n",
      "63\n",
      "70\n",
      "77\n",
      "84\n",
      "91\n",
      "98\n"
     ]
    }
   ],
   "source": [
    "def print_multiples(num):\n",
    "    for divisor in range (1,101):\n",
    "        remainder=divisor%num\n",
    "        if remainder == 0:\n",
    "            print (divisor)\n",
    "print_multiples(7)"
   ]
  },
  {
   "cell_type": "code",
   "execution_count": 91,
   "id": "4161a5e6-71e5-4ac7-88d9-17f8502bf983",
   "metadata": {},
   "outputs": [
    {
     "name": "stdout",
     "output_type": "stream",
     "text": [
      "6.719600000000001\n"
     ]
    }
   ],
   "source": [
    "def factorial (n):\n",
    "    if n<2:\n",
    "        return 1\n",
    "    result=n*factorial(n-1)\n",
    "    return result\n",
    "\n",
    "print (factorial(3.14))\n",
    "    "
   ]
  },
  {
   "cell_type": "code",
   "execution_count": null,
   "id": "8f79b6b6-42c4-464c-9ae9-47faae99cf5b",
   "metadata": {},
   "outputs": [],
   "source": [
    "def is_power_of(number, base):\n",
    "  print (\"Number = \" +str(number) +\", Base=\" +str(base))\n",
    "  # Base case: when number is smaller than base.\n",
    "  if number < base:\n",
    "    # If number is equal to 1, it's a power (base**0).\n",
    "    return number\n",
    "  elif number == base:\n",
    "    return True\n",
    "\n",
    "  # Recursive case: keep dividing number by base.\n",
    "  return is_power_of(number/base, base)\n",
    "\n",
    "print(is_power_of(8,2)) # Should be True\n",
    "print(is_power_of(64,4)) # Should be True\n",
    "print(is_power_of(70,10)) # Should be False"
   ]
  },
  {
   "cell_type": "code",
   "execution_count": 92,
   "id": "bc17e016-54ca-4c3a-bde4-b46458118c1e",
   "metadata": {},
   "outputs": [
    {
     "name": "stdin",
     "output_type": "stream",
     "text": [
      "Enter number:  4\n",
      "Enter index:  2\n"
     ]
    },
    {
     "name": "stdout",
     "output_type": "stream",
     "text": [
      "4 raised to 2: 16\n"
     ]
    },
    {
     "data": {
      "text/plain": [
       "16"
      ]
     },
     "execution_count": 92,
     "metadata": {},
     "output_type": "execute_result"
    }
   ],
   "source": [
    "def rpower(num,idx):\n",
    "    if(idx==1):\n",
    "       return(num)\n",
    "    else:\n",
    "       return(num*rpower(num,idx-1))\n",
    "base=int(input(\"Enter number: \"))\n",
    "exp=int(input(\"Enter index: \"))\n",
    "rpow=rpower(base,exp)\n",
    "print(\"{} raised to {}: {}\".format(base,exp,rpow))\n",
    "\n",
    "rpower(4,2)"
   ]
  },
  {
   "cell_type": "code",
   "execution_count": 4,
   "id": "28615653-4e3a-4e09-9114-8102478f7661",
   "metadata": {},
   "outputs": [
    {
     "data": {
      "text/plain": [
       "<function __main__.tmp()>"
      ]
     },
     "execution_count": 4,
     "metadata": {},
     "output_type": "execute_result"
    }
   ],
   "source": [
    "def tmp():\n",
    "    n=0\n",
    "    while n in {1,2}:\n",
    "        print (n)\n",
    "        n+=1\n",
    "\n",
    "tmp"
   ]
  },
  {
   "cell_type": "code",
   "execution_count": 7,
   "id": "ff2b2167-973c-444d-a673-2b2baa86eb30",
   "metadata": {},
   "outputs": [
    {
     "name": "stdout",
     "output_type": "stream",
     "text": [
      "2\n"
     ]
    }
   ],
   "source": [
    "print (len (\"25\"))"
   ]
  },
  {
   "cell_type": "code",
   "execution_count": 5,
   "id": "8d7a2c75-ce28-497f-b875-c9ba3c395208",
   "metadata": {},
   "outputs": [
    {
     "name": "stdout",
     "output_type": "stream",
     "text": [
      "H\n",
      "e\n",
      "l\n",
      "l\n",
      "o\n"
     ]
    }
   ],
   "source": [
    "def show_letters(word):\n",
    "\tfor i in word:\n",
    "\t\tprint(i)\n",
    "\n",
    "show_letters(\"Hello\")"
   ]
  },
  {
   "cell_type": "code",
   "execution_count": 15,
   "id": "d0396a00-03bd-4cd4-9734-6df11ba00687",
   "metadata": {},
   "outputs": [
    {
     "name": "stdout",
     "output_type": "stream",
     "text": [
      "1\n"
     ]
    }
   ],
   "source": [
    "print (3%2)"
   ]
  },
  {
   "cell_type": "code",
   "execution_count": 16,
   "id": "da2daab6-7575-4114-b38c-93739dbafca1",
   "metadata": {},
   "outputs": [
    {
     "name": "stdout",
     "output_type": "stream",
     "text": [
      "1\n",
      "4\n",
      "7\n"
     ]
    }
   ],
   "source": [
    "for x in range(1, 10, 3):\n",
    "    print(x)"
   ]
  },
  {
   "cell_type": "code",
   "execution_count": 17,
   "id": "adea4f8f-84f8-494f-a5c3-e7d9600c0d03",
   "metadata": {},
   "outputs": [
    {
     "name": "stdout",
     "output_type": "stream",
     "text": [
      "0\n",
      "0\n",
      "1\n",
      "0\n",
      "1\n",
      "2\n",
      "0\n",
      "1\n",
      "2\n",
      "3\n",
      "0\n",
      "1\n",
      "2\n",
      "3\n",
      "4\n",
      "0\n",
      "1\n",
      "2\n",
      "3\n",
      "4\n",
      "5\n",
      "0\n",
      "1\n",
      "2\n",
      "3\n",
      "4\n",
      "5\n",
      "6\n",
      "0\n",
      "1\n",
      "2\n",
      "3\n",
      "4\n",
      "5\n",
      "6\n",
      "7\n",
      "0\n",
      "1\n",
      "2\n",
      "3\n",
      "4\n",
      "5\n",
      "6\n",
      "7\n",
      "8\n"
     ]
    }
   ],
   "source": [
    "for x in range(10):\n",
    "    for y in range(x):\n",
    "        print(y)"
   ]
  },
  {
   "cell_type": "code",
   "execution_count": 18,
   "id": "65add4ce-35a1-416c-a639-3f2196fd7bf0",
   "metadata": {},
   "outputs": [
    {
     "name": "stdout",
     "output_type": "stream",
     "text": [
      "Possible option:yes\n",
      "Possible option:no\n",
      "Possible option:maybe\n"
     ]
    }
   ],
   "source": [
    "def votes(params):\n",
    "\tfor vote in params:\n",
    "\t    print(\"Possible option:\" + vote)\n",
    "        \n",
    "votes(['yes', 'no', 'maybe'])"
   ]
  },
  {
   "cell_type": "code",
   "execution_count": 20,
   "id": "814ac1cf-1ca5-4c4e-9d5a-979e1ed4179a",
   "metadata": {},
   "outputs": [
    {
     "name": "stderr",
     "output_type": "stream",
     "text": [
      "  7%|███████▊                                                                                                         | 69509862/1000000000 [00:12<02:53, 5368055.88it/s]\n"
     ]
    },
    {
     "ename": "KeyboardInterrupt",
     "evalue": "",
     "output_type": "error",
     "traceback": [
      "\u001b[0;31m---------------------------------------------------------------------------\u001b[0m",
      "\u001b[0;31mKeyboardInterrupt\u001b[0m                         Traceback (most recent call last)",
      "Cell \u001b[0;32mIn[20], line 2\u001b[0m\n\u001b[1;32m      1\u001b[0m \u001b[38;5;28;01mfrom\u001b[39;00m \u001b[38;5;21;01mtqdm\u001b[39;00m \u001b[38;5;28;01mimport\u001b[39;00m tqdm\n\u001b[0;32m----> 2\u001b[0m \u001b[38;5;28;01mfor\u001b[39;00m item \u001b[38;5;129;01min\u001b[39;00m tqdm(\u001b[38;5;28mrange\u001b[39m(\u001b[38;5;241m10\u001b[39m \u001b[38;5;241m*\u001b[39m\u001b[38;5;241m*\u001b[39m \u001b[38;5;241m9\u001b[39m)):\n\u001b[1;32m      3\u001b[0m   \u001b[38;5;28;01mpass\u001b[39;00m\n",
      "\u001b[0;31mKeyboardInterrupt\u001b[0m: "
     ]
    }
   ],
   "source": [
    "from tqdm import tqdm\n",
    "for item in tqdm(range(10 ** 9)):\n",
    "  pass"
   ]
  },
  {
   "cell_type": "code",
   "execution_count": 23,
   "id": "2a59543d-e051-4096-b908-5e0723cc0164",
   "metadata": {},
   "outputs": [
    {
     "name": "stdout",
     "output_type": "stream",
     "text": [
      "0.0\n",
      "True\n",
      "0.8927892607143724\n",
      "False\n"
     ]
    }
   ],
   "source": [
    "import math\n",
    "def is_power(n, y):\n",
    "    if n <= 0 or y <= 0:\n",
    "        return False\n",
    "    print (math.log(n,y) % 1)\n",
    "    if math.log(n,y) % 1 == 0:\n",
    "        return True\n",
    "    else:\n",
    "        return False\n",
    "\n",
    "print(is_power(16, 2)) # True\n",
    "print(is_power(24, 3)) # False\n"
   ]
  },
  {
   "cell_type": "code",
   "execution_count": 35,
   "id": "1b1815cb-da1d-4f74-8097-1864aa645a1a",
   "metadata": {},
   "outputs": [
    {
     "name": "stdout",
     "output_type": "stream",
     "text": [
      "  0 F | -17.78 C\n",
      " 10 F | -12.22 C\n",
      " 20 F |  -6.67 C\n",
      " 30 F |  -1.11 C\n",
      " 40 F |   4.44 C\n",
      " 50 F |  10.00 C\n",
      " 60 F |  15.56 C\n",
      " 70 F |  21.11 C\n",
      " 80 F |  26.67 C\n",
      " 90 F |  32.22 C\n",
      "100 F |  37.78 C\n"
     ]
    }
   ],
   "source": [
    "def to_celsius(x):\n",
    "    return (x-32)*5/9\n",
    "    \n",
    "for x in range (0,101,10):\n",
    "    print (\"{:>3} F | {:>6.2f} C\".format(x, to_celsius(x) ))"
   ]
  },
  {
   "cell_type": "code",
   "execution_count": 63,
   "id": "e8dde42d-6bd0-4287-83ed-4c1f11609d96",
   "metadata": {},
   "outputs": [
    {
     "name": "stdout",
     "output_type": "stream",
     "text": [
      "11neveroddoreven\n"
     ]
    }
   ],
   "source": [
    "def reverse(string):\n",
    "    string = list(string)\n",
    "    string.reverse()\n",
    "    return \"\".join(string)\n",
    "\n",
    "def is_palindrome (input_string):\n",
    "    reversestr = input_string.strip().replace(\" \",\"\")\n",
    "    print (reverse(reversestr))\n",
    "    \n",
    "is_palindrome(\"never odd or even11\")\n",
    "\n",
    "    "
   ]
  },
  {
   "cell_type": "code",
   "execution_count": 40,
   "id": "8a25fbbe-1282-4498-bb70-35f9a795a637",
   "metadata": {},
   "outputs": [
    {
     "data": {
      "text/plain": [
       "'strip me'"
      ]
     },
     "execution_count": 40,
     "metadata": {},
     "output_type": "execute_result"
    }
   ],
   "source": [
    "\n",
    "ex=\"strip me\"\n",
    "ex.strip()"
   ]
  },
  {
   "cell_type": "code",
   "execution_count": 80,
   "id": "c210bcf7-a799-4d51-bcc5-ac883b211941",
   "metadata": {},
   "outputs": [
    {
     "name": "stdout",
     "output_type": "stream",
     "text": [
      "neveroddoreven\n",
      "neveroddoreven\n",
      "Its a palindrome\n"
     ]
    }
   ],
   "source": [
    "def is_palindrome (input_string):\n",
    "    fromated_input_string = input_string.strip().replace(\" \",\"\").lower()\n",
    "    reversestr = input_string.strip().replace(\" \",\"\").lower()[::-1]\n",
    "    print (fromated_input_string)\n",
    "    print (reversestr)    \n",
    "    if fromated_input_string == reversestr:\n",
    "        print (\"Its a palindrome\")\n",
    "    else:\n",
    "        print (\"Its not a palindrome\")\n",
    "    \n",
    "is_palindrome(\"Never Odd or Even\")"
   ]
  },
  {
   "cell_type": "code",
   "execution_count": 81,
   "id": "bee808b3-c3de-484e-aa59-75399a793c99",
   "metadata": {},
   "outputs": [
    {
     "ename": "IndentationError",
     "evalue": "expected an indented block (3430774976.py, line 2)",
     "output_type": "error",
     "traceback": [
      "\u001b[0;36m  Cell \u001b[0;32mIn[81], line 2\u001b[0;36m\u001b[0m\n\u001b[0;31m    print(\"Number = \" + str(number) + \", Base=\" + str(base))\u001b[0m\n\u001b[0m    ^\u001b[0m\n\u001b[0;31mIndentationError\u001b[0m\u001b[0;31m:\u001b[0m expected an indented block\n"
     ]
    }
   ],
   "source": [
    "def is_power_of(number, base):\n",
    "print(\"Number = \" + str(number) + \", Base=\" + str(base))\n",
    "# Base case: when number is smaller than base.\n",
    "if base == 1:\n",
    "return True\n",
    "if number < base:\n",
    "# If number is equal to 1, it's a power (base**0).\n",
    "return number == 1\n",
    "\n",
    "Copy code\n",
    "# Recursive case: keep dividing number by base.\n",
    "return is_power_of(number/base, base)\n",
    "print(is_power_of(8, 1)) # Should be True\n",
    "print(is_power_of(64, 4)) # Should be True\n",
    "print(is_power_of(70, 10)) # Should be False"
   ]
  },
  {
   "cell_type": "code",
   "execution_count": 82,
   "id": "85a6201e-e776-4d7c-8301-b0a146d7cd12",
   "metadata": {},
   "outputs": [
    {
     "name": "stdout",
     "output_type": "stream",
     "text": [
      "Cloudflare\n"
     ]
    }
   ],
   "source": [
    "import requests\n",
    "from bs4 import BeautifulSoup\n",
    "\n",
    "url = 'https://beta.openai.com/examples'\n",
    "\n",
    "response = requests.get(url)\n",
    "soup = BeautifulSoup(response.text, 'html.parser')\n",
    "\n",
    "# Use soup.find or soup.find_all to locate the desired elements on the page\n",
    "# and extract their text or attributes\n",
    "\n",
    "# Example: print the text of all the links on the page\n",
    "for link in soup.find_all('a'):\n",
    "    print(link.text)"
   ]
  },
  {
   "cell_type": "code",
   "execution_count": 95,
   "id": "3c4082bd-8e4d-463a-a111-7ea5a70c70e5",
   "metadata": {},
   "outputs": [
    {
     "name": "stdout",
     "output_type": "stream",
     "text": [
      "True\n",
      "abcuuu\n"
     ]
    }
   ],
   "source": [
    "sentence=\"abcabc\"\n",
    "old=\"abc\"\n",
    "new=\"uuu\"\n",
    "print (sentence.endswith(old))\n",
    "\n",
    "print (sentence[:sentence.rindex(old)] + new )"
   ]
  },
  {
   "cell_type": "code",
   "execution_count": 96,
   "id": "2e600b1d-7f2c-4ffa-a6e9-189e77a5c50f",
   "metadata": {},
   "outputs": [
    {
     "data": {
      "text/plain": [
       "True"
      ]
     },
     "execution_count": 96,
     "metadata": {},
     "output_type": "execute_result"
    }
   ],
   "source": [
    "x=[\"now\",\"we\",\"are\",\"cooking\"]\n",
    "\n",
    "\"now\" in x"
   ]
  },
  {
   "cell_type": "code",
   "execution_count": 97,
   "id": "b9d0d685-3385-431e-b6f1-f3359312f60e",
   "metadata": {},
   "outputs": [
    {
     "data": {
      "text/plain": [
       "4"
      ]
     },
     "execution_count": 97,
     "metadata": {},
     "output_type": "execute_result"
    }
   ],
   "source": [
    "len(x)"
   ]
  },
  {
   "cell_type": "code",
   "execution_count": 103,
   "id": "22e7bcdd-5467-43a6-8803-5f8ae819d06d",
   "metadata": {},
   "outputs": [
    {
     "name": "stdout",
     "output_type": "stream",
     "text": [
      "<class 'str'>\n",
      "<class 'list'>\n",
      "['This', 'is', 'a', 'lesson', 'about', 'lists']\n"
     ]
    }
   ],
   "source": [
    "sentence=\"This is a lesson about lists\"\n",
    "print(type(sentence))\n",
    "words=sentence.split (\" \")\n",
    "print(type(words))\n",
    "print(words)\n"
   ]
  },
  {
   "cell_type": "code",
   "execution_count": 104,
   "id": "9511a6d9-7c5c-491d-b0c9-37edb9b5418d",
   "metadata": {},
   "outputs": [
    {
     "name": "stdout",
     "output_type": "stream",
     "text": [
      "['now', 'we', 'are', 'cooking', 'new_word']\n"
     ]
    }
   ],
   "source": [
    "x.append(\"new_word\")\n",
    "print (x)"
   ]
  },
  {
   "cell_type": "code",
   "execution_count": 105,
   "id": "df1ad13e-f9ec-45fe-8c82-04cdbc055cc8",
   "metadata": {},
   "outputs": [
    {
     "name": "stdout",
     "output_type": "stream",
     "text": [
      "['now', 'another_one', 'we', 'are', 'cooking', 'new_word']\n"
     ]
    }
   ],
   "source": [
    "x.insert(1,\"another_one\")\n",
    "print (x)"
   ]
  },
  {
   "cell_type": "code",
   "execution_count": 106,
   "id": "7a459124-d4ac-428b-9b14-239355f6446f",
   "metadata": {},
   "outputs": [
    {
     "data": {
      "text/plain": [
       "['now', 'another_one', 'we', 'are', 'cooking', 'new_word']"
      ]
     },
     "execution_count": 106,
     "metadata": {},
     "output_type": "execute_result"
    }
   ],
   "source": [
    "x"
   ]
  },
  {
   "cell_type": "code",
   "execution_count": 107,
   "id": "094761da-5bef-4d17-b99b-eb0942228dd1",
   "metadata": {},
   "outputs": [
    {
     "name": "stdout",
     "output_type": "stream",
     "text": [
      "['now', 'we', 'are', 'cooking', 'new_word']\n"
     ]
    }
   ],
   "source": [
    "x.remove(\"another_one\")\n",
    "print (x)"
   ]
  },
  {
   "cell_type": "code",
   "execution_count": 109,
   "id": "0177365b-7bd7-4f1b-9d27-a823e402fe05",
   "metadata": {},
   "outputs": [
    {
     "name": "stdout",
     "output_type": "stream",
     "text": [
      "['now', 'we', 'are', 'cooking']\n"
     ]
    }
   ],
   "source": [
    "x.pop ()\n",
    "print (x)"
   ]
  },
  {
   "cell_type": "code",
   "execution_count": 110,
   "id": "2b16aca8-c82d-417e-b3c4-7b0e94f18a52",
   "metadata": {},
   "outputs": [
    {
     "name": "stdout",
     "output_type": "stream",
     "text": [
      "['Lately', 'we', 'are', 'cooking']\n"
     ]
    }
   ],
   "source": [
    "x[0]=\"Lately\"\n",
    "print (x)"
   ]
  },
  {
   "cell_type": "code",
   "execution_count": 113,
   "id": "d8eaa8cd-200d-4ecf-99cf-779fadef036b",
   "metadata": {},
   "outputs": [
    {
     "name": "stdout",
     "output_type": "stream",
     "text": [
      "(1, 23, 20)\n",
      "1 23 20\n"
     ]
    }
   ],
   "source": [
    "def convert_seconds(seconds):\n",
    "    hours=seconds//3600\n",
    "    minutes=(seconds-hours*3600)//60\n",
    "    remaining_seconds=seconds-hours*3600 - minutes*60\n",
    "    return hours, minutes, remaining_seconds\n",
    "\n",
    "result=convert_seconds(5000)\n",
    "print (result)\n",
    "hours, minutes, seconds=convert_seconds(5000)\n",
    "print (hours, minutes, seconds)"
   ]
  },
  {
   "cell_type": "code",
   "execution_count": 114,
   "id": "88dc2bac-3f7e-447b-b32b-35f63feedcc0",
   "metadata": {},
   "outputs": [
    {
     "data": {
      "text/plain": [
       "['Lately', 'we', 'are', 'cooking']"
      ]
     },
     "execution_count": 114,
     "metadata": {},
     "output_type": "execute_result"
    }
   ],
   "source": [
    "x"
   ]
  },
  {
   "cell_type": "code",
   "execution_count": 115,
   "id": "bfaa69a1-04cc-4eaf-abe2-6a782f17b5c6",
   "metadata": {},
   "outputs": [
    {
     "data": {
      "text/plain": [
       "2"
      ]
     },
     "execution_count": 115,
     "metadata": {},
     "output_type": "execute_result"
    }
   ],
   "source": [
    "4//2"
   ]
  },
  {
   "cell_type": "code",
   "execution_count": 116,
   "id": "51a50ee9-a072-4c9f-9d3c-378c96ccb0d5",
   "metadata": {},
   "outputs": [
    {
     "data": {
      "text/plain": [
       "2"
      ]
     },
     "execution_count": 116,
     "metadata": {},
     "output_type": "execute_result"
    }
   ],
   "source": [
    "5//2"
   ]
  },
  {
   "cell_type": "code",
   "execution_count": 117,
   "id": "445c29ca-115c-4829-ae20-82963d871973",
   "metadata": {},
   "outputs": [
    {
     "ename": "SyntaxError",
     "evalue": "unexpected character after line continuation character (263085253.py, line 1)",
     "output_type": "error",
     "traceback": [
      "\u001b[0;36m  Cell \u001b[0;32mIn[117], line 1\u001b[0;36m\u001b[0m\n\u001b[0;31m    5\\\\2\u001b[0m\n\u001b[0m        ^\u001b[0m\n\u001b[0;31mSyntaxError\u001b[0m\u001b[0;31m:\u001b[0m unexpected character after line continuation character\n"
     ]
    }
   ],
   "source": [
    "5\\\\2"
   ]
  },
  {
   "cell_type": "code",
   "execution_count": 118,
   "id": "859894d4-a286-4c81-af29-1a1c6b3654c1",
   "metadata": {},
   "outputs": [
    {
     "data": {
      "text/plain": [
       "1"
      ]
     },
     "execution_count": 118,
     "metadata": {},
     "output_type": "execute_result"
    }
   ],
   "source": [
    "5%2"
   ]
  },
  {
   "cell_type": "code",
   "execution_count": 119,
   "id": "43f78a99-117f-4256-8586-79fc30750b5d",
   "metadata": {},
   "outputs": [
    {
     "data": {
      "text/plain": [
       "0"
      ]
     },
     "execution_count": 119,
     "metadata": {},
     "output_type": "execute_result"
    }
   ],
   "source": [
    "4%2"
   ]
  },
  {
   "cell_type": "code",
   "execution_count": 137,
   "id": "b6c058d3-991d-477f-a79e-7fcfb2eb7d18",
   "metadata": {},
   "outputs": [],
   "source": [
    "def skip_elements(elements):\n",
    "    result=[]\n",
    "    for index,element in enumerate(elements):\n",
    "        if index == 0:\n",
    "            result.append(element)\n",
    "            continue\n",
    "        else:\n",
    "            if index%2 == 0:\n",
    "                result.append(element)\n",
    "    return result\n",
    "\n"
   ]
  },
  {
   "cell_type": "code",
   "execution_count": 138,
   "id": "7b0b39ff-d330-46af-8a37-267ad987825e",
   "metadata": {},
   "outputs": [
    {
     "name": "stdout",
     "output_type": "stream",
     "text": [
      "['a', 'c', 'e', 'g']\n"
     ]
    }
   ],
   "source": [
    "\n"
   ]
  },
  {
   "cell_type": "code",
   "execution_count": 139,
   "id": "185d7f73-1acd-43e3-bce1-04bec30bac25",
   "metadata": {},
   "outputs": [
    {
     "name": "stdout",
     "output_type": "stream",
     "text": [
      "['Orange', 'Strawberry', 'Peach']\n"
     ]
    }
   ],
   "source": []
  },
  {
   "cell_type": "code",
   "execution_count": 140,
   "id": "96bbb26e-eec3-436c-8aab-502a0ae8b2cf",
   "metadata": {},
   "outputs": [],
   "source": [
    "def skip_elements(elements):\n",
    "    result=[]\n",
    "    for index,element in enumerate(elements):\n",
    "        if index%2 == 0:\n",
    "            result.append(element)\n",
    "    return result"
   ]
  },
  {
   "cell_type": "code",
   "execution_count": 141,
   "id": "83ff375f-f335-45ec-98e5-fcab64ea0cef",
   "metadata": {},
   "outputs": [
    {
     "name": "stdout",
     "output_type": "stream",
     "text": [
      "['a', 'c', 'e', 'g']\n",
      "['Orange', 'Strawberry', 'Peach']\n"
     ]
    }
   ],
   "source": [
    "print(skip_elements([\"a\", \"b\", \"c\", \"d\", \"e\", \"f\", \"g\"])) # Should be ['a', 'c', 'e', 'g']\n",
    "print(skip_elements(['Orange', 'Pineapple', 'Strawberry', 'Kiwi', 'Peach'])) # Should be ['Orange', 'Strawberry', 'Peach']"
   ]
  },
  {
   "cell_type": "code",
   "execution_count": 143,
   "id": "101503aa-4c9a-4fe8-b00f-965929375204",
   "metadata": {},
   "outputs": [
    {
     "name": "stdout",
     "output_type": "stream",
     "text": [
      "[7, 14, 21, 28, 35, 42, 49, 56, 63, 70]\n"
     ]
    }
   ],
   "source": [
    "multiples = [x*7 for x in range(1,11)]\n",
    "print (multiples)"
   ]
  },
  {
   "cell_type": "code",
   "execution_count": 147,
   "id": "115761fb-aa8b-4994-a00b-65d197232e7e",
   "metadata": {},
   "outputs": [
    {
     "name": "stdout",
     "output_type": "stream",
     "text": [
      "[4, 7, 6]\n"
     ]
    }
   ],
   "source": [
    "languages = [\"amit\",\"sanghvi\",\"avyaan\"]\n",
    "lenghts = [len(language) for language in (languages)]\n",
    "print (lenghts)"
   ]
  },
  {
   "cell_type": "code",
   "execution_count": 150,
   "id": "0bd8a48d-8f5f-473c-8ddf-2cc1d046ee78",
   "metadata": {},
   "outputs": [
    {
     "name": "stdout",
     "output_type": "stream",
     "text": [
      "['program.c', 'stdio.h', 'sample.h', 'a.out', 'math.h', 'hpp.out']\n"
     ]
    }
   ],
   "source": [
    "filenames = [\"program.c\", \"stdio.hpp\", \"sample.hpp\", \"a.out\", \"math.hpp\", \"hpp.out\"]\n",
    "newfilenames = [filename.replace(\".hpp\",\".h\" ) for filename in filenames]\n",
    "print (newfilenames)"
   ]
  },
  {
   "cell_type": "code",
   "execution_count": 165,
   "id": "8a19171f-818c-4c52-967d-05eeb71dd678",
   "metadata": {},
   "outputs": [
    {
     "name": "stdout",
     "output_type": "stream",
     "text": [
      "ellohay owhay reaay ouyay\n"
     ]
    }
   ],
   "source": [
    "def pig_latin(text):\n",
    "  words = text.split()\n",
    "  pigged_text = []\n",
    "\n",
    "  for word in words:\n",
    "    word = word[1:] + word[0] + 'ay'\n",
    "    pigged_text.append(word)\n",
    "\n",
    "  return ' '.join(pigged_text)\n",
    "\n",
    "print(pig_latin(\"hello how are you\"))"
   ]
  },
  {
   "cell_type": "code",
   "execution_count": 167,
   "id": "902fccdd-4aaa-4f69-8445-89bc04b20b27",
   "metadata": {},
   "outputs": [
    {
     "name": "stdout",
     "output_type": "stream",
     "text": [
      "Ken is 30 years old and works as Chef\n",
      "Pat is 35 years old and works as Lawyer\n",
      "Amanda is 25 years old and works as Engineer\n"
     ]
    }
   ],
   "source": [
    "def guest_list(guests):\n",
    "    for guest in guests:\n",
    "        name, age, role = guest\n",
    "        print(\"{} is {} years old and works as {}\".format(name,str(age),role))\n",
    "\n",
    "guest_list([('Ken', 30, \"Chef\"), (\"Pat\", 35, 'Lawyer'), ('Amanda', 25, \"Engineer\")])\n"
   ]
  },
  {
   "cell_type": "code",
   "execution_count": 163,
   "id": "e12a1002-c1e2-4246-b98b-a559089f6097",
   "metadata": {},
   "outputs": [
    {
     "name": "stdout",
     "output_type": "stream",
     "text": [
      "M\n",
      "h\n",
      "a\n",
      "l\n",
      "l\n",
      "I\n",
      "w\n",
      "4\n",
      "b\n"
     ]
    }
   ],
   "source": [
    "def pig_latin(text):\n",
    "    say=\"\"\n",
    "    words=text.split()\n",
    "    for word in words:\n",
    "        word1=word[0:1]\n",
    "        print (word1)\n",
    "    \n",
    "pig_latin(\"Mary had a little lamp. It was 40W bright\")"
   ]
  },
  {
   "cell_type": "code",
   "execution_count": 168,
   "id": "d211d60b-edcb-4384-aea9-91ec29992055",
   "metadata": {},
   "outputs": [
    {
     "data": {
      "text/plain": [
       "dict"
      ]
     },
     "execution_count": 168,
     "metadata": {},
     "output_type": "execute_result"
    }
   ],
   "source": [
    "x={}\n",
    "type(x)\n"
   ]
  },
  {
   "cell_type": "code",
   "execution_count": 226,
   "id": "925d8fbc-e9ce-43f6-861d-57cd43126a8c",
   "metadata": {},
   "outputs": [
    {
     "name": "stdout",
     "output_type": "stream",
     "text": [
      "Split text=['error', 'not', 'an', 'error']\n",
      "{'errorr': 0}\n"
     ]
    },
    {
     "data": {
      "text/plain": [
       "'\\nmyDict[i]=myDict.get(i,0)+1. This is because when we are incrementing the count for the first time, the key \"error\" does not exist in the dictionary. We can use the get() method of the dict object to get the value of the key and if it does not exist, it will return the default value which is 0 in this case.\\n'"
      ]
     },
     "execution_count": 226,
     "metadata": {},
     "output_type": "execute_result"
    }
   ],
   "source": [
    "def count_words(string,search):\n",
    "    words=[]\n",
    "    search_string=[]\n",
    "    myDict={}\n",
    "    words=string.lower().split()\n",
    "    search_string=search.lower().split()\n",
    "    print (\"Split text={}\".format(words) )\n",
    "    myDict[search]=0\n",
    "    #frequency=[myDict[i]+=1 for i in words if i==search]\n",
    "    for i in words:\n",
    "        if i==search:\n",
    "            myDict[search]=myDict.get(i,0)+1\n",
    "\n",
    "    print (myDict)\n",
    "    \n",
    "count_words (\"error not an error\",\"errorr\")\n",
    "\n",
    "\"\"\"\n",
    "myDict[i]=myDict.get(i,0)+1. This is because when we are incrementing the count for the first time, the key \"error\" does not exist in the dictionary. We can use the get() method of the dict object to get the value of the key and if it does not exist, it will return the default value which is 0 in this case.\n",
    "\"\"\""
   ]
  },
  {
   "cell_type": "code",
   "execution_count": 191,
   "id": "8985fd3a-bc47-4ad9-a8c4-aeb878224d06",
   "metadata": {},
   "outputs": [
    {
     "data": {
      "text/plain": [
       "True"
      ]
     },
     "execution_count": 191,
     "metadata": {},
     "output_type": "execute_result"
    }
   ],
   "source": [
    "\"err\" in \"error not an error\"\n"
   ]
  },
  {
   "cell_type": "code",
   "execution_count": 227,
   "id": "7e27e541-0301-45ed-9b6a-057106dba0f9",
   "metadata": {},
   "outputs": [
    {
     "ename": "FileNotFoundError",
     "evalue": "[Errno 2] No such file or directory: 'input.txt'",
     "output_type": "error",
     "traceback": [
      "\u001b[0;31m---------------------------------------------------------------------------\u001b[0m",
      "\u001b[0;31mFileNotFoundError\u001b[0m                         Traceback (most recent call last)",
      "Cell \u001b[0;32mIn[227], line 27\u001b[0m\n\u001b[1;32m     24\u001b[0m         \u001b[38;5;28mprint\u001b[39m(\u001b[38;5;124m\"\u001b[39m\u001b[38;5;124mPlayers:\u001b[39m\u001b[38;5;124m\"\u001b[39m, game)\n\u001b[1;32m     26\u001b[0m \u001b[38;5;66;03m# Read the input from a file\u001b[39;00m\n\u001b[0;32m---> 27\u001b[0m \u001b[38;5;28;01mwith\u001b[39;00m \u001b[38;5;28;43mopen\u001b[39;49m\u001b[43m(\u001b[49m\u001b[38;5;124;43m\"\u001b[39;49m\u001b[38;5;124;43minput.txt\u001b[39;49m\u001b[38;5;124;43m\"\u001b[39;49m\u001b[43m)\u001b[49m \u001b[38;5;28;01mas\u001b[39;00m f:\n\u001b[1;32m     28\u001b[0m     players \u001b[38;5;241m=\u001b[39m f\u001b[38;5;241m.\u001b[39mreadline()\u001b[38;5;241m.\u001b[39mstrip()\u001b[38;5;241m.\u001b[39msplit(\u001b[38;5;124m'\u001b[39m\u001b[38;5;124m,\u001b[39m\u001b[38;5;124m'\u001b[39m)\n\u001b[1;32m     29\u001b[0m     courts \u001b[38;5;241m=\u001b[39m \u001b[38;5;28mint\u001b[39m(f\u001b[38;5;241m.\u001b[39mreadline()\u001b[38;5;241m.\u001b[39mstrip())\n",
      "File \u001b[0;32m/Library/Frameworks/Python.framework/Versions/3.9/lib/python3.9/site-packages/IPython/core/interactiveshell.py:282\u001b[0m, in \u001b[0;36m_modified_open\u001b[0;34m(file, *args, **kwargs)\u001b[0m\n\u001b[1;32m    275\u001b[0m \u001b[38;5;28;01mif\u001b[39;00m file \u001b[38;5;129;01min\u001b[39;00m {\u001b[38;5;241m0\u001b[39m, \u001b[38;5;241m1\u001b[39m, \u001b[38;5;241m2\u001b[39m}:\n\u001b[1;32m    276\u001b[0m     \u001b[38;5;28;01mraise\u001b[39;00m \u001b[38;5;167;01mValueError\u001b[39;00m(\n\u001b[1;32m    277\u001b[0m         \u001b[38;5;124mf\u001b[39m\u001b[38;5;124m\"\u001b[39m\u001b[38;5;124mIPython won\u001b[39m\u001b[38;5;124m'\u001b[39m\u001b[38;5;124mt let you open fd=\u001b[39m\u001b[38;5;132;01m{\u001b[39;00mfile\u001b[38;5;132;01m}\u001b[39;00m\u001b[38;5;124m by default \u001b[39m\u001b[38;5;124m\"\u001b[39m\n\u001b[1;32m    278\u001b[0m         \u001b[38;5;124m\"\u001b[39m\u001b[38;5;124mas it is likely to crash IPython. If you know what you are doing, \u001b[39m\u001b[38;5;124m\"\u001b[39m\n\u001b[1;32m    279\u001b[0m         \u001b[38;5;124m\"\u001b[39m\u001b[38;5;124myou can use builtins\u001b[39m\u001b[38;5;124m'\u001b[39m\u001b[38;5;124m open.\u001b[39m\u001b[38;5;124m\"\u001b[39m\n\u001b[1;32m    280\u001b[0m     )\n\u001b[0;32m--> 282\u001b[0m \u001b[38;5;28;01mreturn\u001b[39;00m \u001b[43mio_open\u001b[49m\u001b[43m(\u001b[49m\u001b[43mfile\u001b[49m\u001b[43m,\u001b[49m\u001b[43m \u001b[49m\u001b[38;5;241;43m*\u001b[39;49m\u001b[43margs\u001b[49m\u001b[43m,\u001b[49m\u001b[43m \u001b[49m\u001b[38;5;241;43m*\u001b[39;49m\u001b[38;5;241;43m*\u001b[39;49m\u001b[43mkwargs\u001b[49m\u001b[43m)\u001b[49m\n",
      "\u001b[0;31mFileNotFoundError\u001b[0m: [Errno 2] No such file or directory: 'input.txt'"
     ]
    }
   ],
   "source": [
    "import random\n",
    "\n",
    "def setup_games(players, courts):\n",
    "    # Check if number of players is divisible by 4\n",
    "    if len(players) % 4 != 0:\n",
    "        print(\"Error: Number of players must be divisible by 4.\")\n",
    "        return\n",
    "\n",
    "    # Check if number of courts is sufficient\n",
    "    num_games = len(players) // 4\n",
    "    if num_games > courts:\n",
    "        print(\"Error: Not enough courts to play all the games.\")\n",
    "        return\n",
    "\n",
    "    # Shuffle the players list\n",
    "    random.shuffle(players)\n",
    "\n",
    "    # Split the players list into groups of 4\n",
    "    games = [players[i:i+4] for i in range(0, len(players), 4)]\n",
    "\n",
    "    # Print the game schedule\n",
    "    for i, game in enumerate(games):\n",
    "        print(\"Game\", i+1)\n",
    "        print(\"Players:\", game)\n",
    "\n",
    "# Read the input from a file\n",
    "with open(\"input.txt\") as f:\n",
    "    players = f.readline().strip().split(',')\n",
    "    courts = int(f.readline().strip())\n",
    "\n",
    "# Setup the games\n",
    "players=('amit','prashant','anil','sudheer')\n",
    "courts=2\n",
    "setup_games(players, courts)\n",
    "\n"
   ]
  },
  {
   "cell_type": "code",
   "execution_count": null,
   "id": "e1c14b7e-a518-4db5-8cc5-14bd84479b69",
   "metadata": {},
   "outputs": [],
   "source": []
  },
  {
   "cell_type": "code",
   "execution_count": 228,
   "id": "976037d6-c59a-4939-b4e6-8720dcbd98d9",
   "metadata": {},
   "outputs": [
    {
     "name": "stdout",
     "output_type": "stream",
     "text": [
      "Game 1\n",
      "Players: [\"'prashant'\", \"'sudheer'\", \"'anil'\", \"'amit'\"]\n"
     ]
    }
   ],
   "source": [
    "import random\n",
    "\n",
    "def setup_games(players, courts):\n",
    "    # Check if number of players is greater than 3\n",
    "    if len(players) <= 3:\n",
    "        print(\"Error: Number of players must be more than 3.\")\n",
    "        return\n",
    "\n",
    "    # Check if number of players is divisible by 4\n",
    "    if len(players) % 4 != 0:\n",
    "        # Add extra players to the games until number of players is divisible by 4\n",
    "        extra_players = 4 - len(players) % 4\n",
    "        players += players[:extra_players]\n",
    "\n",
    "    # Check if number of courts is sufficient\n",
    "    num_games = len(players) // 4\n",
    "    if num_games > courts:\n",
    "        print(\"Error: Not enough courts to play all the games.\")\n",
    "        return\n",
    "\n",
    "    # Shuffle the players list\n",
    "    random.shuffle(players)\n",
    "\n",
    "    # Split the players list into groups of 4\n",
    "    games = [players[i:i+4] for i in range(0, len(players), 4)]\n",
    "\n",
    "    # Print the game schedule\n",
    "    for i, game in enumerate(games):\n",
    "        print(\"Game\", i+1)\n",
    "        print(\"Players:\", game)\n",
    "\n",
    "# Read the input from a file\n",
    "with open(\"Badminton_games_input.txt\") as f:\n",
    "    players = f.readline().strip().split(',')\n",
    "    courts = int(f.readline().strip())\n",
    "\n",
    "# Setup the games\n",
    "setup_games(players, courts)\n"
   ]
  },
  {
   "cell_type": "code",
   "execution_count": 237,
   "id": "f52712a4-3c79-4a7a-9d2a-2fd103bf3f6d",
   "metadata": {},
   "outputs": [
    {
     "name": "stdout",
     "output_type": "stream",
     "text": [
      "Game 1\n",
      "Players: [\"'sudheer'\", \"'anil'\", \"'prashant'\", \"'amit'\"]\n"
     ]
    }
   ],
   "source": [
    "setup_games(players, courts)"
   ]
  },
  {
   "cell_type": "code",
   "execution_count": 239,
   "id": "a89218f8-6b69-4207-87fa-2f26e52040d0",
   "metadata": {},
   "outputs": [
    {
     "name": "stdout",
     "output_type": "stream",
     "text": [
      "Game 1\n",
      "Players: ['pranay', 'sudheer', 'prashant', 'neal']\n",
      "Game 2\n",
      "Players: ['bipin', 'sunil', 'amit shah', 'pranay']\n",
      "Game 3\n",
      "Players: ['pratik', 'yee', 'anil', 'amit sanghvi']\n"
     ]
    }
   ],
   "source": [
    "import random\n",
    "\n",
    "def setup_games(players, courts):\n",
    "    # Check if number of players is between 4 and 28\n",
    "    if len(players) < 4 or len(players) > 28:\n",
    "        print(\"Error: Number of players must be between 4 and 28.\")\n",
    "        return\n",
    "\n",
    "    # Check if number of players is divisible by 4\n",
    "    if len(players) % 4 != 0:\n",
    "        # Add extra players to the games until number of players is divisible by 4\n",
    "        extra_players = 4 - len(players) % 4\n",
    "        players += players[:extra_players]\n",
    "\n",
    "\n",
    "\n",
    "    # Shuffle the players list\n",
    "    random.shuffle(players)\n",
    "\n",
    "    # Split the players list into groups of 4\n",
    "    games = [players[i:i+4] for i in range(0, len(players), 4)]\n",
    "\n",
    "    # Print the game schedule\n",
    "    for i, game in enumerate(games):\n",
    "        print(\"Game\", i+1)\n",
    "        print(\"Players:\", game)\n",
    "\n",
    "# Read the input from a file\n",
    "with open(\"badminton_games_input.txt\") as f:\n",
    "    players = f.readline().strip().split(',')\n",
    "    courts = int(f.readline().strip())\n",
    "\n",
    "# Setup the games\n",
    "setup_games(players, courts)\n"
   ]
  },
  {
   "cell_type": "code",
   "execution_count": 240,
   "id": "ed2a4ab3-d3bb-4510-b489-e9c5648b1e4f",
   "metadata": {},
   "outputs": [
    {
     "ename": "IndexError",
     "evalue": "list index out of range",
     "output_type": "error",
     "traceback": [
      "\u001b[0;31m---------------------------------------------------------------------------\u001b[0m",
      "\u001b[0;31mIndexError\u001b[0m                                Traceback (most recent call last)",
      "Cell \u001b[0;32mIn[240], line 22\u001b[0m\n\u001b[1;32m     20\u001b[0m \u001b[38;5;66;03m# Create the games by pairing the player groups\u001b[39;00m\n\u001b[1;32m     21\u001b[0m \u001b[38;5;28;01mfor\u001b[39;00m i \u001b[38;5;129;01min\u001b[39;00m \u001b[38;5;28mrange\u001b[39m(\u001b[38;5;241m0\u001b[39m, \u001b[38;5;28mlen\u001b[39m(player_groups), \u001b[38;5;241m2\u001b[39m):\n\u001b[0;32m---> 22\u001b[0m     \u001b[38;5;28mprint\u001b[39m(\u001b[38;5;124m\"\u001b[39m\u001b[38;5;124mGame \u001b[39m\u001b[38;5;132;01m{}\u001b[39;00m\u001b[38;5;124m: \u001b[39m\u001b[38;5;132;01m{}\u001b[39;00m\u001b[38;5;124m vs \u001b[39m\u001b[38;5;132;01m{}\u001b[39;00m\u001b[38;5;124m\"\u001b[39m\u001b[38;5;241m.\u001b[39mformat(i\u001b[38;5;241m/\u001b[39m\u001b[38;5;241m/\u001b[39m\u001b[38;5;241m2\u001b[39m \u001b[38;5;241m+\u001b[39m \u001b[38;5;241m1\u001b[39m, player_groups[i], \u001b[43mplayer_groups\u001b[49m\u001b[43m[\u001b[49m\u001b[43mi\u001b[49m\u001b[38;5;241;43m+\u001b[39;49m\u001b[38;5;241;43m1\u001b[39;49m\u001b[43m]\u001b[49m))\n",
      "\u001b[0;31mIndexError\u001b[0m: list index out of range"
     ]
    }
   ],
   "source": [
    "import random\n",
    "\n",
    "# Read the file with names of players\n",
    "with open(\"players.txt\") as f:\n",
    "    players = f.read().splitlines()\n",
    "\n",
    "# Read the file with the number of courts\n",
    "with open(\"courts.txt\") as f:\n",
    "    courts = int(f.read().strip())\n",
    "\n",
    "# Calculate the number of games\n",
    "games = courts\n",
    "\n",
    "# Divide the players into groups of 4\n",
    "player_groups = [players[i:i+4] for i in range(0, len(players), 4)]\n",
    "\n",
    "# Shuffle the player groups\n",
    "random.shuffle(player_groups)\n",
    "\n",
    "# Create the games by pairing the player groups\n",
    "for i in range(0, len(player_groups), 2):\n",
    "    print(\"Game {}: {} vs {}\".format(i//2 + 1, player_groups[i], player_groups[i+1]))\n"
   ]
  },
  {
   "cell_type": "code",
   "execution_count": 242,
   "id": "65a5020f-22b2-4474-ae4b-bda7d3033581",
   "metadata": {},
   "outputs": [
    {
     "ename": "IndexError",
     "evalue": "list index out of range",
     "output_type": "error",
     "traceback": [
      "\u001b[0;31m---------------------------------------------------------------------------\u001b[0m",
      "\u001b[0;31mIndexError\u001b[0m                                Traceback (most recent call last)",
      "Cell \u001b[0;32mIn[242], line 12\u001b[0m\n\u001b[1;32m      9\u001b[0m     courts \u001b[38;5;241m=\u001b[39m \u001b[38;5;28mint\u001b[39m(f\u001b[38;5;241m.\u001b[39mread()\u001b[38;5;241m.\u001b[39mstrip())\n\u001b[1;32m     11\u001b[0m \u001b[38;5;66;03m# Divide the players into pairs\u001b[39;00m\n\u001b[0;32m---> 12\u001b[0m player_pairs \u001b[38;5;241m=\u001b[39m [(players[i], players[i\u001b[38;5;241m+\u001b[39m\u001b[38;5;241m1\u001b[39m]) \u001b[38;5;28;01mfor\u001b[39;00m i \u001b[38;5;129;01min\u001b[39;00m \u001b[38;5;28mrange\u001b[39m(\u001b[38;5;241m0\u001b[39m, \u001b[38;5;28mlen\u001b[39m(players), \u001b[38;5;241m2\u001b[39m)]\n\u001b[1;32m     14\u001b[0m \u001b[38;5;66;03m# Shuffle the player pairs\u001b[39;00m\n\u001b[1;32m     15\u001b[0m random\u001b[38;5;241m.\u001b[39mshuffle(player_pairs)\n",
      "Cell \u001b[0;32mIn[242], line 12\u001b[0m, in \u001b[0;36m<listcomp>\u001b[0;34m(.0)\u001b[0m\n\u001b[1;32m      9\u001b[0m     courts \u001b[38;5;241m=\u001b[39m \u001b[38;5;28mint\u001b[39m(f\u001b[38;5;241m.\u001b[39mread()\u001b[38;5;241m.\u001b[39mstrip())\n\u001b[1;32m     11\u001b[0m \u001b[38;5;66;03m# Divide the players into pairs\u001b[39;00m\n\u001b[0;32m---> 12\u001b[0m player_pairs \u001b[38;5;241m=\u001b[39m [(players[i], \u001b[43mplayers\u001b[49m\u001b[43m[\u001b[49m\u001b[43mi\u001b[49m\u001b[38;5;241;43m+\u001b[39;49m\u001b[38;5;241;43m1\u001b[39;49m\u001b[43m]\u001b[49m) \u001b[38;5;28;01mfor\u001b[39;00m i \u001b[38;5;129;01min\u001b[39;00m \u001b[38;5;28mrange\u001b[39m(\u001b[38;5;241m0\u001b[39m, \u001b[38;5;28mlen\u001b[39m(players), \u001b[38;5;241m2\u001b[39m)]\n\u001b[1;32m     14\u001b[0m \u001b[38;5;66;03m# Shuffle the player pairs\u001b[39;00m\n\u001b[1;32m     15\u001b[0m random\u001b[38;5;241m.\u001b[39mshuffle(player_pairs)\n",
      "\u001b[0;31mIndexError\u001b[0m: list index out of range"
     ]
    }
   ],
   "source": [
    "import random\n",
    "\n",
    "# Read the file with names of players\n",
    "with open(\"players.txt\") as f:\n",
    "    players = f.read().splitlines()\n",
    "\n",
    "# Read the file with the number of courts\n",
    "with open(\"courts.txt\") as f:\n",
    "    courts = int(f.read().strip())\n",
    "\n",
    "# Divide the players into pairs\n",
    "player_pairs = [(players[i], players[i+1]) for i in range(0, len(players), 2)]\n",
    "\n",
    "# Shuffle the player pairs\n",
    "random.shuffle(player_pairs)\n",
    "\n",
    "# Create the games by pairing the player pairs\n",
    "for i in range(0, len(player_pairs), 2):\n",
    "    print(\"Game {}: {} vs {}\".format(i//2 + 1, player_pairs[i], player_pairs[i+1]))\n"
   ]
  },
  {
   "cell_type": "code",
   "execution_count": 243,
   "id": "22ca83d1-30ec-4ed2-a42f-8396534ae33d",
   "metadata": {},
   "outputs": [
    {
     "name": "stdout",
     "output_type": "stream",
     "text": [
      "Warning: The number of players is not even. One player will sit out for each game.\n"
     ]
    },
    {
     "ename": "IndexError",
     "evalue": "list index out of range",
     "output_type": "error",
     "traceback": [
      "\u001b[0;31m---------------------------------------------------------------------------\u001b[0m",
      "\u001b[0;31mIndexError\u001b[0m                                Traceback (most recent call last)",
      "Cell \u001b[0;32mIn[243], line 24\u001b[0m\n\u001b[1;32m     22\u001b[0m \u001b[38;5;66;03m# Create the games by pairing the player pairs\u001b[39;00m\n\u001b[1;32m     23\u001b[0m \u001b[38;5;28;01mfor\u001b[39;00m i \u001b[38;5;129;01min\u001b[39;00m \u001b[38;5;28mrange\u001b[39m(\u001b[38;5;241m0\u001b[39m, \u001b[38;5;28mlen\u001b[39m(player_pairs), \u001b[38;5;241m2\u001b[39m):\n\u001b[0;32m---> 24\u001b[0m     \u001b[38;5;28mprint\u001b[39m(\u001b[38;5;124m\"\u001b[39m\u001b[38;5;124mGame \u001b[39m\u001b[38;5;132;01m{}\u001b[39;00m\u001b[38;5;124m: \u001b[39m\u001b[38;5;132;01m{}\u001b[39;00m\u001b[38;5;124m vs \u001b[39m\u001b[38;5;132;01m{}\u001b[39;00m\u001b[38;5;124m\"\u001b[39m\u001b[38;5;241m.\u001b[39mformat(i\u001b[38;5;241m/\u001b[39m\u001b[38;5;241m/\u001b[39m\u001b[38;5;241m2\u001b[39m \u001b[38;5;241m+\u001b[39m \u001b[38;5;241m1\u001b[39m, player_pairs[i], \u001b[43mplayer_pairs\u001b[49m\u001b[43m[\u001b[49m\u001b[43mi\u001b[49m\u001b[38;5;241;43m+\u001b[39;49m\u001b[38;5;241;43m1\u001b[39;49m\u001b[43m]\u001b[49m))\n",
      "\u001b[0;31mIndexError\u001b[0m: list index out of range"
     ]
    }
   ],
   "source": [
    "import random\n",
    "\n",
    "# Read the file with names of players\n",
    "with open(\"players.txt\") as f:\n",
    "    players = f.read().splitlines()\n",
    "\n",
    "# Read the file with the number of courts\n",
    "with open(\"courts.txt\") as f:\n",
    "    courts = int(f.read().strip())\n",
    "\n",
    "# Check if the number of players is even\n",
    "if len(players) % 2 != 0:\n",
    "    print(\"Warning: The number of players is not even. One player will sit out for each game.\")\n",
    "    players.append(random.choice(players))\n",
    "\n",
    "# Divide the players into pairs\n",
    "player_pairs = [(players[i], players[i+1]) for i in range(0, len(players), 2)]\n",
    "\n",
    "# Shuffle the player pairs\n",
    "random.shuffle(player_pairs)\n",
    "\n",
    "# Create the games by pairing the player pairs\n",
    "for i in range(0, len(player_pairs), 2):\n",
    "    print(\"Game {}: {} vs {}\".format(i//2 + 1, player_pairs[i], player_pairs[i+1]))\n"
   ]
  },
  {
   "cell_type": "code",
   "execution_count": 244,
   "id": "44638f26-056f-4757-a80f-2d4ad1fe208b",
   "metadata": {},
   "outputs": [
    {
     "name": "stdout",
     "output_type": "stream",
     "text": [
      "Warning: The number of players is not even. One player will sit out for each game.\n",
      "Error: Not enough player pairs for the number of courts.\n"
     ]
    }
   ],
   "source": [
    "import random\n",
    "\n",
    "# Read the file with names of players\n",
    "with open(\"players.txt\") as f:\n",
    "    players = f.read().splitlines()\n",
    "\n",
    "# Read the file with the number of courts\n",
    "with open(\"courts.txt\") as f:\n",
    "    courts = int(f.read().strip())\n",
    "\n",
    "# Check if the number of players is even\n",
    "if len(players) % 2 != 0:\n",
    "    print(\"Warning: The number of players is not even. One player will sit out for each game.\")\n",
    "    players.append(random.choice(players))\n",
    "\n",
    "# Divide the players into pairs\n",
    "player_pairs = [(players[i], players[i+1]) for i in range(0, len(players), 2)]\n",
    "\n",
    "# Shuffle the player pairs\n",
    "random.shuffle(player_pairs)\n",
    "\n",
    "# Check if there are enough player pairs for the number of courts\n",
    "if len(player_pairs) < courts:\n",
    "    print(\"Error: Not enough player pairs for the number of courts.\")\n",
    "else:\n",
    "    # Create the games by pairing the player pairs\n",
    "    for i in range(0, courts * 2, 2):\n",
    "        print(\"Game {}: {} vs {}\".format(i//2 + 1, player_pairs[i], player_pairs[i+1]))\n"
   ]
  },
  {
   "cell_type": "code",
   "execution_count": 246,
   "id": "3765ee03-6050-4741-8027-456e17f97154",
   "metadata": {},
   "outputs": [],
   "source": [
    "import random\n",
    "\n",
    "def read_players(file_name):\n",
    "    with open(file_name, 'r') as f:\n",
    "        return [name.strip() for name in f.readlines()]\n",
    "\n",
    "def save_pairings(pairings, file_name):\n",
    "    with open(file_name, 'w') as f:\n",
    "        for pairing in pairings:\n",
    "            f.write(','.join(pairing) + '\\n')\n",
    "\n",
    "def get_pairings(players, file_name):\n",
    "    try:\n",
    "        with open(file_name, 'r') as f:\n",
    "            pairings = [line.strip().split(',') for line in f.readlines()]\n",
    "            return [pairing for pairing in pairings if all(name in players for name in pairing)]\n",
    "    except FileNotFoundError:\n",
    "        return []\n",
    "\n",
    "def main():\n",
    "    players = read_players(\"players.txt\")\n",
    "    pairings_file = \"pairings.txt\"\n",
    "    pairings = get_pairings(players, pairings_file)\n",
    "    players = [player for player in players if not any(player in pairing for pairing in pairings)]\n",
    "    while len(players) >= 2:\n",
    "        pairing = random.sample(players, 2)\n",
    "        pairings.append(pairing)\n",
    "        players = [player for player in players if player not in pairing]\n",
    "    save_pairings(pairings, pairings_file)\n",
    "    for i, pairing in enumerate(pairings):\n",
    "        print(f\"Pairing {i + 1}: {pairing[0]} and {pairing[1]}\")\n",
    "\n",
    "if __name__ == \"__main__\":\n",
    "    main()"
   ]
  },
  {
   "cell_type": "code",
   "execution_count": 283,
   "id": "f1a262a7-9628-4c7d-8e18-bc509bf96a51",
   "metadata": {},
   "outputs": [],
   "source": [
    "players = ['bipin,amit_shah,neal,amit,sunil,prashant,sudheer,pranay']\n",
    "players = players[0].split(\",\")"
   ]
  },
  {
   "cell_type": "code",
   "execution_count": 284,
   "id": "ee1e4fd6-3140-409a-bd02-7aa7abe1ad07",
   "metadata": {},
   "outputs": [],
   "source": [
    "n = len(players)"
   ]
  },
  {
   "cell_type": "code",
   "execution_count": 285,
   "id": "94177295-10e8-481c-9580-9895383f6e33",
   "metadata": {},
   "outputs": [
    {
     "name": "stdout",
     "output_type": "stream",
     "text": [
      "get_all_pairings: players = ['bipin', 'amit_shah', 'neal', 'amit', 'sunil', 'prashant', 'sudheer', 'pranay']\n"
     ]
    }
   ],
   "source": [
    "print (\"get_all_pairings: players = {}\".format(players))"
   ]
  },
  {
   "cell_type": "code",
   "execution_count": 286,
   "id": "9ea30bc2-c35a-4836-9498-3b12063cab2d",
   "metadata": {},
   "outputs": [],
   "source": [
    "pairings = [(players[i], players[j]) for i in range(n) for j in range(i+1, n)]"
   ]
  },
  {
   "cell_type": "code",
   "execution_count": 287,
   "id": "b1a39a3d-5b58-4be2-8d49-a2870b6749fd",
   "metadata": {},
   "outputs": [
    {
     "name": "stdout",
     "output_type": "stream",
     "text": [
      "[('bipin', 'amit_shah'), ('bipin', 'neal'), ('bipin', 'amit'), ('bipin', 'sunil'), ('bipin', 'prashant'), ('bipin', 'sudheer'), ('bipin', 'pranay'), ('amit_shah', 'neal'), ('amit_shah', 'amit'), ('amit_shah', 'sunil'), ('amit_shah', 'prashant'), ('amit_shah', 'sudheer'), ('amit_shah', 'pranay'), ('neal', 'amit'), ('neal', 'sunil'), ('neal', 'prashant'), ('neal', 'sudheer'), ('neal', 'pranay'), ('amit', 'sunil'), ('amit', 'prashant'), ('amit', 'sudheer'), ('amit', 'pranay'), ('sunil', 'prashant'), ('sunil', 'sudheer'), ('sunil', 'pranay'), ('prashant', 'sudheer'), ('prashant', 'pranay'), ('sudheer', 'pranay')]\n"
     ]
    }
   ],
   "source": [
    "print (pairings)"
   ]
  },
  {
   "cell_type": "code",
   "execution_count": 265,
   "id": "6c8882e1-9189-4321-91a7-0dd11afdf469",
   "metadata": {},
   "outputs": [
    {
     "name": "stdout",
     "output_type": "stream",
     "text": [
      "n=1\n",
      "n=8\n",
      "i=0\n",
      "i=1\n",
      "i=2\n",
      "i=3\n",
      "i=4\n",
      "i=5\n",
      "i=6\n",
      "i=7\n"
     ]
    }
   ],
   "source": [
    "players = ['bipin,amit_shah,neal,amit,sunil,prashant,sudheer,pranay']\n",
    "n = len(players)\n",
    "print (\"n={}\".format(n))\n",
    "\n",
    "players = ['bipin','amit_shah','neal','amit','sunil','prashant','sudheer','pranay']\n",
    "n = len(players)\n",
    "print (\"n={}\".format(n))\n",
    "           \n",
    "           \n",
    "for i in range(n):\n",
    "    print (\"i={}\".format(i))\n",
    "\n"
   ]
  },
  {
   "cell_type": "code",
   "execution_count": 282,
   "id": "cd973ae2-e12e-40ce-b892-c1f811e74d63",
   "metadata": {},
   "outputs": [
    {
     "name": "stdout",
     "output_type": "stream",
     "text": [
      "['bipin,amit_shah,neal,amit,sunil,prashant,sudheer,pranay\\n']\n",
      "['bipin', 'amit_shah', 'neal', 'amit', 'sunil', 'prashant', 'sudheer', 'pranay']\n"
     ]
    }
   ],
   "source": [
    "with open(\"players.txt\") as f:\n",
    "    content = f.readlines()\n",
    "\n",
    "# print the list\n",
    "print(content)\n",
    "content_list=content[0].split(\",\")\n",
    "\n",
    "# remove new line characters\n",
    "content_list = [x.strip() for x in content_list]\n",
    "print(content_list)\n",
    "\n",
    "\n"
   ]
  },
  {
   "cell_type": "code",
   "execution_count": 278,
   "id": "cf90f94e-2609-4fb4-8960-2b69984b2431",
   "metadata": {},
   "outputs": [
    {
     "name": "stdout",
     "output_type": "stream",
     "text": [
      "['A', 'B', 'C', 'D', 'E']\n"
     ]
    }
   ],
   "source": [
    "my_string = 'A,B,C,D,E'\n",
    "my_list = my_string.split(\",\")\n",
    "print (my_list)"
   ]
  },
  {
   "cell_type": "code",
   "execution_count": 288,
   "id": "443900ff-a2f3-490a-90eb-e32aa09fd4cf",
   "metadata": {},
   "outputs": [
    {
     "ename": "SyntaxError",
     "evalue": "invalid syntax (542462860.py, line 1)",
     "output_type": "error",
     "traceback": [
      "\u001b[0;36m  Cell \u001b[0;32mIn[288], line 1\u001b[0;36m\u001b[0m\n\u001b[0;31m    Write a python function to read a list called players. Then select 2 players randomly from the list. Then remove the selected players from the list. Then select another 2 players from the list\u001b[0m\n\u001b[0m          ^\u001b[0m\n\u001b[0;31mSyntaxError\u001b[0m\u001b[0;31m:\u001b[0m invalid syntax\n"
     ]
    }
   ],
   "source": [
    "Write a python function to read a list called players. Then select 2 players randomly from the list. Then remove the selected players from the list. Then select another 2 players from the list"
   ]
  },
  {
   "cell_type": "code",
   "execution_count": 399,
   "id": "84556c11-5bda-4d99-a591-f88e014afb5e",
   "metadata": {},
   "outputs": [
    {
     "name": "stdout",
     "output_type": "stream",
     "text": [
      "Selected players:  ['sudheer', 'neal']\n",
      "Selected players:  ['bipin', 'sunil']\n"
     ]
    }
   ],
   "source": [
    "\n",
    "\n",
    "import random\n",
    "\n",
    "#def read_players(file_name):\n",
    "#    with open(file_name, 'r') as f:\n",
    "#        return [name.strip() for name in f.readlines()]\n",
    "\n",
    "def set_players():\n",
    "    players = ['bipin,amit_shah,neal,amit,sunil,prashant,sudheer,pranay,pratik']\n",
    "    \n",
    "def select_players(players):\n",
    "    if not players:\n",
    "        set_players\n",
    "    players = players[0].split(\",\")\n",
    "    if len(players) < 2:\n",
    "        set_players()\n",
    "\n",
    "    selected_players = []\n",
    "    for i in range(2):\n",
    "        player = random.choice(players)\n",
    "        selected_players.append(player)\n",
    "        players.remove(player)\n",
    "\n",
    "    print(\"Selected players: \", selected_players)\n",
    "\n",
    "    if len(players) >= 2:\n",
    "        selected_players = []\n",
    "        for i in range(2):\n",
    "            player = random.choice(players)\n",
    "            selected_players.append(player)\n",
    "            players.remove(player)\n",
    "        print(\"Selected players: \", selected_players)\n",
    "    else:\n",
    "        set_players()\n",
    "\n",
    "\n",
    "\n",
    "\n",
    "#players = read_players(\"players.txt\")\n",
    "select_players(players)\n"
   ]
  },
  {
   "cell_type": "code",
   "execution_count": 410,
   "id": "bd0c393d-377d-439e-918b-91990f329dfd",
   "metadata": {},
   "outputs": [
    {
     "name": "stdout",
     "output_type": "stream",
     "text": [
      "Selected players:  ['sudheer', 'pratik']\n",
      "Selected players:  ['pranay', 'neal']\n"
     ]
    }
   ],
   "source": [
    "select_players(players)"
   ]
  },
  {
   "cell_type": "code",
   "execution_count": 372,
   "id": "3165baf7-7b55-4644-a7fc-8425ba8fcc39",
   "metadata": {},
   "outputs": [
    {
     "ename": "IndexError",
     "evalue": "list index out of range",
     "output_type": "error",
     "traceback": [
      "\u001b[0;31m---------------------------------------------------------------------------\u001b[0m",
      "\u001b[0;31mIndexError\u001b[0m                                Traceback (most recent call last)",
      "Cell \u001b[0;32mIn[372], line 1\u001b[0m\n\u001b[0;32m----> 1\u001b[0m \u001b[43mselect_players\u001b[49m\u001b[43m(\u001b[49m\u001b[43mplayers\u001b[49m\u001b[43m)\u001b[49m\n",
      "Cell \u001b[0;32mIn[370], line 17\u001b[0m, in \u001b[0;36mselect_players\u001b[0;34m(players)\u001b[0m\n\u001b[1;32m     15\u001b[0m selected_players \u001b[38;5;241m=\u001b[39m []\n\u001b[1;32m     16\u001b[0m \u001b[38;5;28;01mfor\u001b[39;00m i \u001b[38;5;129;01min\u001b[39;00m \u001b[38;5;28mrange\u001b[39m(\u001b[38;5;241m2\u001b[39m):\n\u001b[0;32m---> 17\u001b[0m     player \u001b[38;5;241m=\u001b[39m \u001b[43mrandom\u001b[49m\u001b[38;5;241;43m.\u001b[39;49m\u001b[43mchoice\u001b[49m\u001b[43m(\u001b[49m\u001b[43mplayers\u001b[49m\u001b[43m)\u001b[49m\n\u001b[1;32m     18\u001b[0m     selected_players\u001b[38;5;241m.\u001b[39mappend(player)\n\u001b[1;32m     19\u001b[0m     players\u001b[38;5;241m.\u001b[39mremove(player)\n",
      "File \u001b[0;32m/Library/Frameworks/Python.framework/Versions/3.9/lib/python3.9/random.py:347\u001b[0m, in \u001b[0;36mRandom.choice\u001b[0;34m(self, seq)\u001b[0m\n\u001b[1;32m    345\u001b[0m \u001b[38;5;250m\u001b[39m\u001b[38;5;124;03m\"\"\"Choose a random element from a non-empty sequence.\"\"\"\u001b[39;00m\n\u001b[1;32m    346\u001b[0m \u001b[38;5;66;03m# raises IndexError if seq is empty\u001b[39;00m\n\u001b[0;32m--> 347\u001b[0m \u001b[38;5;28;01mreturn\u001b[39;00m \u001b[43mseq\u001b[49m\u001b[43m[\u001b[49m\u001b[38;5;28;43mself\u001b[39;49m\u001b[38;5;241;43m.\u001b[39;49m\u001b[43m_randbelow\u001b[49m\u001b[43m(\u001b[49m\u001b[38;5;28;43mlen\u001b[39;49m\u001b[43m(\u001b[49m\u001b[43mseq\u001b[49m\u001b[43m)\u001b[49m\u001b[43m)\u001b[49m\u001b[43m]\u001b[49m\n",
      "\u001b[0;31mIndexError\u001b[0m: list index out of range"
     ]
    }
   ],
   "source": [
    "select_players(players)"
   ]
  },
  {
   "cell_type": "code",
   "execution_count": 423,
   "id": "c11382eb-9bd5-409a-be07-361ecdcebfd4",
   "metadata": {},
   "outputs": [
    {
     "name": "stdout",
     "output_type": "stream",
     "text": [
      "player1\n",
      "player2\n",
      "player3\n",
      "player4\n"
     ]
    }
   ],
   "source": [
    "import random\n",
    "\n",
    "def select_teams(players_available_dict):\n",
    "    if len(players_available_dict) < 4:\n",
    "        print(\"Cannot allocate teams as there aren't 4 players to select from\")\n",
    "        return\n",
    "\n",
    "    players_playing_dict = {}\n",
    "    for i in range(2):\n",
    "        players_selected = random.sample((sorted(players_available_dict.items(), key=lambda x: x[1])[:2]\n",
    "        for player in players_selected:\n",
    "            print(player[0])\n",
    "            players_playing_dict[player[0]] = player[1] + 1\n",
    "            del players_available_dict[player[0]]\n",
    "\n",
    "players_available = [\"player1\", \"player2\", \"player3\", \"player4\", \"player5\", \"player6\"]\n",
    "players_available_dict = {player: 0 for player in players_available}\n",
    "select_teams(players_available_dict)"
   ]
  },
  {
   "cell_type": "code",
   "execution_count": 431,
   "id": "45594768-a4c5-4346-b599-6dc86c1b3a19",
   "metadata": {},
   "outputs": [
    {
     "name": "stdout",
     "output_type": "stream",
     "text": [
      "player1\n",
      "player2\n",
      "player3\n",
      "player4\n"
     ]
    }
   ],
   "source": [
    "players_available = [\"player1\", \"player2\", \"player3\", \"player4\", \"player5\", \"player6\", \"player7\", \"player8\", \"player9\", \"player10\", \"player11\", \"player12\"]\n",
    "players_available_dict = {player: 0 for player in players_available}\n",
    "select_teams(players_available_dict)"
   ]
  },
  {
   "cell_type": "code",
   "execution_count": 434,
   "id": "9e6bbdd6-3b67-485e-bd7d-4be88682a98a",
   "metadata": {},
   "outputs": [
    {
     "name": "stdout",
     "output_type": "stream",
     "text": [
      "Cannot allocate teams as there aren't 4 players to select from\n"
     ]
    }
   ],
   "source": [
    "select_teams(players_available_dict)"
   ]
  },
  {
   "cell_type": "code",
   "execution_count": null,
   "id": "ddafea41-ea63-422a-9879-27dbbf3537e0",
   "metadata": {},
   "outputs": [],
   "source": []
  },
  {
   "cell_type": "code",
   "execution_count": 449,
   "id": "008306e4-eefc-41cb-ae89-916880d764c9",
   "metadata": {},
   "outputs": [
    {
     "name": "stdout",
     "output_type": "stream",
     "text": [
      "Players available = dict_keys(['player1', 'player2', 'player3', 'player4', 'player5', 'player6', 'player7', 'player8', 'player10', 'player11', 'player12'])\n",
      "Players available = dict_keys(['player1', 'player2', 'player4', 'player5', 'player6', 'player7', 'player8', 'player10', 'player11', 'player12'])\n",
      "Players available = dict_keys(['player1', 'player2', 'player4', 'player5', 'player6', 'player7', 'player8', 'player10', 'player12'])\n",
      "Players available = dict_keys(['player1', 'player4', 'player5', 'player6', 'player7', 'player8', 'player10', 'player12'])\n",
      "Players selected for team 1: ['player9', 'player3']\n",
      "Players selected for team 2: ['player11', 'player2']\n"
     ]
    }
   ],
   "source": [
    "import random\n",
    "\n",
    "def select_teams(players_available):\n",
    "    players_available_dict = {player: 0 for player in players_available}\n",
    "    if len(players_available_dict) < 4:\n",
    "        print(\"Players available = {}\".format (players_available_dict.keys() ) )\n",
    "        print(\"Cannot allocate teams as there aren't 4 players to select from\")\n",
    "        return\n",
    "    players_playing_dict = {}\n",
    "    for i in range(2):\n",
    "        selected_players = random.sample(sorted(players_available_dict, key=players_available_dict.get), 2)\n",
    "        for player in selected_players:\n",
    "            print(\"Loop: {}   Players available = {}\".format (i,players_available_dict.keys() ) )\n",
    "            players_playing_dict[player] = players_available_dict[player] + 1\n",
    "            del players_available_dict[player]\n",
    "            print(\"Loop: {}   Players available = {}\".format (i,players_available_dict.keys() ) )\n",
    "\n",
    "    print(\"Players selected for team 1:\", list(players_playing_dict.keys())[:2])\n",
    "    print(\"Players selected for team 2:\", list(players_playing_dict.keys())[2:])\n",
    "\n",
    "players_available = [\"player1\", \"player2\", \"player3\", \"player4\", \"player5\", \"player6\", \"player7\", \"player8\", \"player9\", \"player10\", \"player11\", \"player12\"]\n",
    "select_teams(players_available)"
   ]
  },
  {
   "cell_type": "code",
   "execution_count": 497,
   "id": "e6feb701-ae76-474a-85c3-39277d1e19b2",
   "metadata": {},
   "outputs": [],
   "source": [
    "import random\n",
    "\n",
    "def select_teams(players_available_dict):\n",
    "\n",
    "    print (\"Players Available BEFORE CHECKING LENGTH. Length is {}. Values are: {}\".format (len(players_available_dict), players_available_dict) )\n",
    "    if len(players_available_dict) < 4:\n",
    "        #print(\"Players available = {}\".format (players_available_dict.keys() ) )\n",
    "        print(\"Cannot allocate teams as there aren't 4 players to select from\")\n",
    "        return\n",
    "    players_playing_dict = {}\n",
    "    for i in range(2):\n",
    "        selected_players = random.sample(sorted(players_available_dict, key=players_available_dict.get), 2)\n",
    "        print (\"Select Players {}\".format (selected_players) )\n",
    "        print (\"Players Available BEFORE DELETING {}\".format (players_available_dict) )\n",
    "\n",
    "        for player in selected_players:\n",
    "            #print(\"Loop: {}.A   Players available = {}\".format (i,players_available_dict.keys() ) )\n",
    "            players_playing_dict[player] = players_available_dict[player] + 1\n",
    "            del players_available_dict[player]\n",
    "            #print(\"Loop: {}.B   Players available = {}\".format (i,players_available_dict.keys() ) )\n",
    "        print (\"Players Playing {}\".format (players_playing_dict) )\n",
    "        print (\"Players Available AFTER DELETING {}\".format (players_available_dict) )\n",
    "\n",
    "            \n",
    "    print(\"Players selected for team 1:\", list(players_playing_dict.keys())[:2])\n",
    "    print(\"Players selected for team 2:\", list(players_playing_dict.keys())[2:])\n",
    "\n",
    "def initialise(): \n",
    "    players_available = [\"player1\", \"player2\", \"player3\", \"player4\", \"player5\", \"player6\", \"player7\", \"player8\", \"player9\", \"player10\", \"player11\", \"player12\"]\n",
    "    players_available_dict = {player: 0 for player in players_available}\n",
    "    select_teams(players_available_dict)\n",
    "    \n",
    "def exec_program():\n",
    "    select_teams(players_available_dict)"
   ]
  },
  {
   "cell_type": "code",
   "execution_count": 498,
   "id": "8d217c9d-d8ff-43b2-bd87-14d94d27fca2",
   "metadata": {},
   "outputs": [
    {
     "name": "stdout",
     "output_type": "stream",
     "text": [
      "Players Available BEFORE CHECKING LENGTH. Length is 12. Values are: {'player1': 0, 'player2': 0, 'player3': 0, 'player4': 0, 'player5': 0, 'player6': 0, 'player7': 0, 'player8': 0, 'player9': 0, 'player10': 0, 'player11': 0, 'player12': 0}\n",
      "Select Players ['player11', 'player1']\n",
      "Players Available BEFORE DELETING {'player1': 0, 'player2': 0, 'player3': 0, 'player4': 0, 'player5': 0, 'player6': 0, 'player7': 0, 'player8': 0, 'player9': 0, 'player10': 0, 'player11': 0, 'player12': 0}\n",
      "Players Playing {'player11': 1, 'player1': 1}\n",
      "Players Available AFTER DELETING {'player2': 0, 'player3': 0, 'player4': 0, 'player5': 0, 'player6': 0, 'player7': 0, 'player8': 0, 'player9': 0, 'player10': 0, 'player12': 0}\n",
      "Select Players ['player10', 'player8']\n",
      "Players Available BEFORE DELETING {'player2': 0, 'player3': 0, 'player4': 0, 'player5': 0, 'player6': 0, 'player7': 0, 'player8': 0, 'player9': 0, 'player10': 0, 'player12': 0}\n",
      "Players Playing {'player11': 1, 'player1': 1, 'player10': 1, 'player8': 1}\n",
      "Players Available AFTER DELETING {'player2': 0, 'player3': 0, 'player4': 0, 'player5': 0, 'player6': 0, 'player7': 0, 'player9': 0, 'player12': 0}\n",
      "Players selected for team 1: ['player11', 'player1']\n",
      "Players selected for team 2: ['player10', 'player8']\n"
     ]
    }
   ],
   "source": [
    "initialise()"
   ]
  },
  {
   "cell_type": "code",
   "execution_count": 499,
   "id": "76906d2f-eebc-42fe-bf8e-1f77bfe87922",
   "metadata": {},
   "outputs": [
    {
     "name": "stdout",
     "output_type": "stream",
     "text": [
      "Players Available BEFORE CHECKING LENGTH. Length is 0. Values are: {}\n",
      "Cannot allocate teams as there aren't 4 players to select from\n"
     ]
    }
   ],
   "source": [
    "exec_program()"
   ]
  },
  {
   "cell_type": "code",
   "execution_count": 463,
   "id": "3582ce46-4d5c-4da8-b77e-15735b596ea7",
   "metadata": {},
   "outputs": [
    {
     "name": "stdout",
     "output_type": "stream",
     "text": [
      "Cannot allocate teams as there aren't 4 players to select from\n"
     ]
    }
   ],
   "source": [
    "exec_program()"
   ]
  },
  {
   "cell_type": "code",
   "execution_count": 534,
   "id": "a968d8e1-9f5f-4d9e-a43b-59746867d6f8",
   "metadata": {},
   "outputs": [
    {
     "name": "stdout",
     "output_type": "stream",
     "text": [
      "('public', 'clubs')\n",
      "('public', 'players')\n"
     ]
    }
   ],
   "source": [
    "import psycopg2\n",
    "\n",
    "hostname = \"containers-us-west-193.railway.app\"\n",
    "database = \"railway\"\n",
    "port = \"6159\"\n",
    "username = \"postgres\"\n",
    "password = \"kujZn1oIv0yIjhHr5FHv\"\n",
    "\n",
    "# Establishing the connection\n",
    "conn = psycopg2.connect(\n",
    "   database=database, user=username, password=password, host=hostname, port=port\n",
    ")\n",
    "# Creating a cursor object using the cursor() method\n",
    "cursor = conn.cursor()\n",
    "\n",
    "\n",
    "sqlDropAllTables=\"\"\"drop table if exists players;\n",
    "drop table if exists clubs;\n",
    "drop table if exists players_clubs;\n",
    "\n",
    "\"\"\"\n",
    "cursor.execute(sqlDropAllTables)\n",
    "\n",
    "sqlCreateTable=\"\"\"CREATE TABLE if not exists clubs (\n",
    "   id serial PRIMARY KEY,\n",
    "   name varchar(255) NOT NULL,\n",
    "   date_formed timestamp NOT NULL DEFAULT CURRENT_TIMESTAMP,\n",
    "   no_of_courts integer NOT NULL DEFAULT 0,\n",
    "   owner varchar(255) NOT NULL,\n",
    "   addr_line1 varchar(255) NOT NULL,\n",
    "   locality varchar(255) NOT NULL,\n",
    "   city varchar(255) NOT NULL,\n",
    "   country varchar(255) NOT NULL,\n",
    "   postcode varchar(255) NOT NULL\n",
    ");\"\"\"\n",
    "cursor.execute(sqlCreateTable)\n",
    "\n",
    "sqlInsertData=\"\"\"INSERT INTO clubs (name, date_formed, no_of_courts, owner, addr_line1, locality, city, country, postcode)\n",
    "VALUES\n",
    "   ('Swaggers', '2022-10-01', 2, 'Noah Sheldon', '123 Main St', 'Downtown', 'Watford', 'UK', 'SW1A 1AA'),\n",
    "   ('Club D', '2022-04-01', 10, 'Jane Smith', '111 Cherry St', 'Downtown', 'London', 'UK', 'SW1A 1AA'),\n",
    "   ('Club E', '2022-05-01', 12, 'Robert Johnson', '222 Pine St', 'Uptown', 'London', 'UK', 'WC1A 1AA');\"\"\"\n",
    "cursor.execute(sqlInsertData)\n",
    "\n",
    "\n",
    "sqlCreateTable=\"\"\"CREATE TABLE if not exists players (\n",
    "   id serial PRIMARY KEY,\n",
    "   name varchar(255) NOT NULL,\n",
    "   email varchar(255) NOT NULL,\n",
    "   password varchar(255) NOT NULL,\n",
    "   date_joined timestamp NOT NULL DEFAULT CURRENT_TIMESTAMP,\n",
    "   played integer NOT NULL DEFAULT 0,\n",
    "   won integer NOT NULL DEFAULT 0,\n",
    "   draw integer NOT NULL DEFAULT 0,\n",
    "   win_percentage numeric(5, 2) NOT NULL DEFAULT 0.00);\"\"\"\n",
    "cursor.execute(sqlCreateTable)\n",
    "\n",
    "sqlInsertData=\"\"\"INSERT INTO players (name, email, password, date_joined, played, won, draw, win_percentage)\n",
    "VALUES\n",
    "   ('Amit Sanghvi', 'amit2u@hotmail.com', 'password1', '2022-01-01', 0, 0, 0, 0),\n",
    "   ('Prashant Mehta', 'prashant@example.com', 'password2', '2022-02-01', 0, 0, 0, 0);\"\"\"\n",
    "cursor.execute(sqlInsertData)\n",
    "\n",
    "\n",
    "sqlCreateTable=\"\"\"CREATE TABLE IF NOT EXISTS players_clubs (\n",
    "   id serial PRIMARY KEY,\n",
    "   club_id integer NOT NULL REFERENCES clubs(id),\n",
    "   player_id integer NOT NULL REFERENCES players(id),\n",
    "   grade varchar(255) NOT NULL,\n",
    "   ranking integer NOT NULL,\n",
    "   approved boolean NOT NULL DEFAULT false,\n",
    "   archived boolean NOT NULL DEFAULT false\n",
    ");\"\"\"\n",
    "cursor.execute(sqlCreateTable)\n",
    "\n",
    "sqlInsertData=\"\"\"INSERT INTO players_clubs (club_id, player_id, grade, ranking, approved, archived)\n",
    "VALUES (1, 1, 'B', 8, true, false),\n",
    "       (1, 1, 'B', 2, true, false);\n",
    "\"\"\"\n",
    "cursor.execute(sqlInsertData)\n",
    "\n",
    "\n",
    "\n",
    "\n",
    "sqlCreateTable=\"\"\" \"\"\"\n",
    "cursor.execute(sqlCreateTable)\n",
    "\n",
    "sqlInsertData=\"\"\" \"\"\"\n",
    "cursor.execute(sqlInsertData)\n",
    "\n",
    "\n",
    "\n",
    "\n",
    "sqlCreateTable=\"\"\" \"\"\"\n",
    "cursor.execute(sqlCreateTable)\n",
    "\n",
    "sqlInsertData=\"\"\" \"\"\"\n",
    "cursor.execute(sqlInsertData)\n",
    "\n",
    "\n",
    "\n",
    "\n",
    "sqlCreateTable=\"\"\" \"\"\"\n",
    "cursor.execute(sqlCreateTable)\n",
    "\n",
    "sqlInsertData=\"\"\" \"\"\"\n",
    "cursor.execute(sqlInsertData)\n",
    "\n",
    "\n",
    "\n",
    "\n",
    "sqlCreateTable=\"\"\" \"\"\"\n",
    "cursor.execute(sqlCreateTable)\n",
    "\n",
    "sqlInsertData=\"\"\" \"\"\"\n",
    "cursor.execute(sqlInsertData)\n",
    "\n",
    "\n",
    "\n",
    "\n",
    "sqlCreateTable=\"\"\" \"\"\"\n",
    "cursor.execute(sqlCreateTable)\n",
    "\n",
    "sqlInsertData=\"\"\" \"\"\"\n",
    "cursor.execute(sqlInsertData)\n",
    "\n",
    "\n",
    "\n",
    "\n",
    "sqlCreateTable=\"\"\" \"\"\"\n",
    "cursor.execute(sqlCreateTable)\n",
    "\n",
    "sqlInsertData=\"\"\" \"\"\"\n",
    "cursor.execute(sqlInsertData)\n",
    "\n",
    "\n",
    "\n",
    "\n",
    "\n",
    "\n",
    "#sqlCreateTable=\"\"\" \"\"\"\n",
    "#cursor.execute(sqlCreateTable)\n",
    "\n",
    "#sqlInsertData=\"\"\" \"\"\"\n",
    "#cursor.execute(sqlInsertData)\n",
    "\n",
    "\n",
    "conn.commit()\n",
    "\n",
    "# Fetch a single row using fetchone() method.\n",
    "#data = cursor.fetchone()\n",
    "#print(\"Connection established to: \", data)\n",
    "\n",
    "# Fetch multiple rows using fetchall() method\n",
    "sqlGetTableList = \"SELECT table_schema,table_name FROM information_schema.tables where table_schema = 'public' ORDER BY table_schema,table_name ;\"\n",
    "\n",
    "# Retrieve all the rows from the cursor\n",
    "cursor.execute(sqlGetTableList)\n",
    "tables = cursor.fetchall()\n",
    "\n",
    "# Print the names of the tables\n",
    "for table in tables:\n",
    "   print(table)\n",
    "    \n",
    "# Closing the connection\n",
    "conn.close()"
   ]
  },
  {
   "cell_type": "code",
   "execution_count": 535,
   "id": "f5c519b8-90cb-4b92-a2e0-b01649b8f8d8",
   "metadata": {},
   "outputs": [
    {
     "name": "stdout",
     "output_type": "stream",
     "text": [
      "['Amit Sanghvi', 'Prashant Mehta']\n"
     ]
    }
   ],
   "source": [
    "import psycopg2\n",
    "\n",
    "hostname = \"containers-us-west-193.railway.app\"\n",
    "database = \"railway\"\n",
    "port = \"6159\"\n",
    "username = \"postgres\"\n",
    "password = \"kujZn1oIv0yIjhHr5FHv\"\n",
    "\n",
    "# Establishing the connection\n",
    "conn = psycopg2.connect(\n",
    "   database=database, user=username, password=password, host=hostname, port=port\n",
    ")\n",
    "# Creating a cursor object using the cursor() method\n",
    "cursor = conn.cursor()\n",
    "\n",
    "cursor.execute(\"SELECT * FROM players\")\n",
    "\n",
    "# Fetch all the rows of the result set\n",
    "result = cursor.fetchall()\n",
    "\n",
    "# Create an empty list to store player names\n",
    "player_names = []\n",
    "\n",
    "# Iterate over each row and add the name to the player_names list\n",
    "for row in result:\n",
    "  player_names.append(row[1])\n",
    "\n",
    "# Print the list of player names\n",
    "print(player_names)\n",
    "\n",
    "# Close the cursor and database connection\n",
    "cursor.close()"
   ]
  },
  {
   "cell_type": "code",
   "execution_count": 566,
   "id": "4f5cea64-e833-4864-934d-e488a2c0535b",
   "metadata": {},
   "outputs": [],
   "source": [
    "import random\n",
    "\n",
    "def initialize():\n",
    "    global player_names\n",
    "    player_names = ['John', 'Jane', 'Jim', 'Jill', 'Jerry', 'Jack','Paul','Peter','Patrick','Perry']\n",
    "\n",
    "def select_players():\n",
    "# Check if player_names has at least 4 values\n",
    "    global player_names\n",
    "    global players_playing\n",
    "    if len(player_names) >= 4:\n",
    "      players_playing = []\n",
    "\n",
    "      # Select 2 names at random and add them to the players_playing list\n",
    "      for i in range(2):\n",
    "        random_index = random.randint(0, len(player_names) - 1)\n",
    "        players_playing.append(player_names[random_index])\n",
    "        player_names.pop(random_index)\n",
    "\n",
    "      # Repeat the process one more time\n",
    "      for i in range(2):\n",
    "        random_index = random.randint(0, len(player_names) - 1)\n",
    "        players_playing.append(player_names[random_index])\n",
    "        player_names.pop(random_index)\n",
    "\n",
    "      # Print the first 2 names as team1 and next 2 names as team2\n",
    "      print(\"Team 1:\", players_playing[0], players_playing[1])\n",
    "      print(\"Team 2:\", players_playing[2], players_playing[3])\n",
    "    else:\n",
    "      print(\"Not enough players to create teams.\")\n",
    "      initialize()\n",
    "        \n",
    "def play_finished():\n",
    "    global player_names\n",
    "    global players_playing\n",
    "    \n",
    "  # Display the players_playing list\n",
    "    print(\"Players playing:\", players_playing)\n",
    "\n",
    "  # Accept input for comma separated player names\n",
    "    finished_players = input(\"Enter comma separated names of finished players: \")\n",
    "\n",
    "  # Convert the input string to a list of player names\n",
    "    finished_players = finished_players.split(',')\n",
    "\n",
    "  # Remove the finished players from the players_playing list\n",
    "    for player in finished_players:\n",
    "      players_playing.remove(player.strip())\n",
    "\n",
    "  # Add the finished players to the player_names list\n",
    "    for player in finished_players:\n",
    "      player_names.append(player.strip())\n",
    "\n",
    "  # Display the updated lists\n",
    "    print(\"Players playing:\", players_playing)\n",
    "    print(\"Player names:\", player_names)\n",
    "\n",
    "# Example usage\n",
    "#player_names = ['John', 'Jane', 'Jim', 'Jill']\n",
    "#players_playing = ['John', 'Jane']\n",
    "#play_finished(players_playing, player_names)\n",
    "\n",
    "        "
   ]
  },
  {
   "cell_type": "code",
   "execution_count": 568,
   "id": "d53becba-b63d-4cc5-98bc-2f1c2d641fa9",
   "metadata": {},
   "outputs": [
    {
     "name": "stdout",
     "output_type": "stream",
     "text": [
      "Team 1: Perry Jack\n",
      "Team 2: Jane Paul\n"
     ]
    }
   ],
   "source": [
    "select_players()"
   ]
  },
  {
   "cell_type": "code",
   "execution_count": 567,
   "id": "919003f2-1604-4c47-b446-3453ecbd23c5",
   "metadata": {},
   "outputs": [],
   "source": [
    "initialize()"
   ]
  },
  {
   "cell_type": "code",
   "execution_count": 569,
   "id": "346ec08a-fdbf-4355-a218-808b08a84d26",
   "metadata": {},
   "outputs": [
    {
     "data": {
      "text/plain": [
       "<function __main__.play_finished()>"
      ]
     },
     "execution_count": 569,
     "metadata": {},
     "output_type": "execute_result"
    }
   ],
   "source": [
    "play_finished"
   ]
  },
  {
   "cell_type": "code",
   "execution_count": 695,
   "id": "eb3e77a0-cf98-4db2-8b63-26be3a084156",
   "metadata": {},
   "outputs": [],
   "source": [
    "import random\n",
    "\n",
    "def initialize():\n",
    "    global player_names\n",
    "    global players_playing\n",
    "    player_names_list = ['John', 'Jane', 'Jim', 'Jill', 'Jerry', 'Jack','Paul','Peter','Patrick','Perry']\n",
    "    player_names = [item.lower() for item in player_names_list]\n",
    "    players_playing = []\n",
    "\n",
    "        \n",
    "def select_players():\n",
    "    # Check if player_names has at least 4 values\n",
    "    global player_names\n",
    "    global players_playing\n",
    "    if len(player_names) >= 4:\n",
    "\n",
    "        # Select 2 names at random and add them to the players_playing list\n",
    "        for i in range(2):\n",
    "            random_index = random.randint(0, len(player_names) - 1)\n",
    "            players_playing.append(player_names[random_index])\n",
    "            player_names.pop(random_index)\n",
    "\n",
    "        # Repeat the process one more time\n",
    "        for i in range(2):\n",
    "            random_index = random.randint(0, len(player_names) - 1)\n",
    "            players_playing.append(player_names[random_index])\n",
    "            player_names.pop(random_index)\n",
    "\n",
    "        # Print the first 2 names as team1 and next 2 names as team2\n",
    "        print(\"Team 1:\", players_playing[0], players_playing[1])\n",
    "        print(\"Team 2:\", players_playing[2], players_playing[3])\n",
    "    else:\n",
    "        print(\"Not enough players to create teams.\")\n",
    "        print(\"Players playing:\", players_playing)\n",
    "        initialize()\n",
    "        \n",
    "def play_finished():\n",
    "    global player_names\n",
    "    global players_playing\n",
    "\n",
    "    # Display the players_playing list\n",
    "    print(\"Players playing:\", players_playing)\n",
    "\n",
    "    # Accept input for comma separated player names\n",
    "    finished_players = input(\"Enter comma separated names of finished players: \")\n",
    "    finished_players = finished_players.lower()\n",
    "\n",
    "    # Convert the input string to a list of player names\n",
    "    finished_players = finished_players.split(',')\n",
    "\n",
    "    # Remove the finished players from the players_playing list\n",
    "    for player in finished_players:\n",
    "        players_playing.remove(player.strip())\n",
    "\n",
    "    # Add the finished players to the player_names list\n",
    "    for player in finished_players:\n",
    "        player_names.append(player.strip())\n",
    "\n",
    "    # Display the updated lists\n",
    "    print(\"Players playing:\", players_playing)\n",
    "    print(\"Player names:\", player_names)\n"
   ]
  },
  {
   "cell_type": "code",
   "execution_count": 607,
   "id": "7eaef45d-a572-4487-9625-884a7e059e70",
   "metadata": {},
   "outputs": [],
   "source": [
    "initialize()"
   ]
  },
  {
   "cell_type": "code",
   "execution_count": 610,
   "id": "9328ec0f-9ed5-4298-9c86-6dd550baf5a3",
   "metadata": {},
   "outputs": [
    {
     "name": "stdout",
     "output_type": "stream",
     "text": [
      "Team 1: jim jane\n",
      "Team 2: jerry john\n"
     ]
    }
   ],
   "source": [
    "select_players()"
   ]
  },
  {
   "cell_type": "code",
   "execution_count": 611,
   "id": "0b466fd8-7d0a-416d-9fbf-fe2abd3df635",
   "metadata": {},
   "outputs": [
    {
     "name": "stdout",
     "output_type": "stream",
     "text": [
      "Players playing: ['jim', 'jane', 'jerry', 'john', 'jill', 'peter', 'patrick', 'perry']\n"
     ]
    },
    {
     "name": "stdin",
     "output_type": "stream",
     "text": [
      "Enter comma separated names of finished players:  jill,perry\n"
     ]
    },
    {
     "name": "stdout",
     "output_type": "stream",
     "text": [
      "Players playing: ['jim', 'jane', 'jerry', 'john', 'peter', 'patrick']\n",
      "Player names: ['jack', 'paul', 'jill', 'perry']\n"
     ]
    }
   ],
   "source": [
    "play_finished()"
   ]
  },
  {
   "cell_type": "code",
   "execution_count": null,
   "id": "06c96271-d18e-4a8f-95d4-34f6440cd025",
   "metadata": {},
   "outputs": [],
   "source": []
  },
  {
   "cell_type": "code",
   "execution_count": 697,
   "id": "2c227aa6-5a2b-4e0b-9937-d48da30a9ff8",
   "metadata": {},
   "outputs": [
    {
     "name": "stdout",
     "output_type": "stream",
     "text": [
      "YES\n"
     ]
    }
   ],
   "source": [
    "var=1\n",
    "if type(var) == int:\n",
    "    print (\"YES\")\n",
    "else:\n",
    "    print (\"NO\")\n"
   ]
  },
  {
   "cell_type": "raw",
   "id": "830c790b-0e33-488d-9864-d0ae7a3d9404",
   "metadata": {},
   "source": [
    "# Final program\n",
    "\n",
    "# Example Usage\n",
    "# initialize()\n",
    "# select_players()\n",
    "# play_finished()\n",
    "# players_status():\n",
    "\n",
    "import random\n",
    "from os import system, name\n",
    "\n",
    "# define our clear function\n",
    "def clear():\n",
    "    # for windows\n",
    "    if name == 'nt':\n",
    "        _ = system('cls')\n",
    "    # for mac and linux(here, os.name is 'posix')\n",
    "    else:\n",
    "        _ = system('clear')\n",
    "\n",
    "def print_divider_plus():\n",
    "    print (\"+++++++++++++++++++++++++++++\")\n",
    "    \n",
    "def print_divider_star():\n",
    "    print (\"*****************************\")\n",
    "\n",
    "def print_divider_line():\n",
    "    print (\"_____________________________\")\n",
    "\n",
    "\n",
    "def initialize():\n",
    "    global player_names\n",
    "    global players_playing\n",
    "    global players_played\n",
    "\n",
    "    player_names_list = ['anil','sudheer','pratik','asanghvi','yee','ashah','prashant','sunilt','bipin','pranay','sunilm']\n",
    "\n",
    "    player_names = [item.lower() for item in player_names_list]\n",
    "    players_playing = []\n",
    "    players_played = {}\n",
    "    print (\"Players List Reset\")\n",
    "    players_status()\n",
    "\n",
    "\n",
    "def select_players():\n",
    "    try:\n",
    "        # Check if player_names has at least 4 values\n",
    "        global player_names\n",
    "        global players_playing\n",
    "        global players_played\n",
    "        if len(player_names) >= 4:\n",
    "\n",
    "            # Select 2 names at random and add them to the players_playing list\n",
    "            for i in range(2):\n",
    "                random_index = random.randint(0, len(player_names) - 1)\n",
    "                players_playing.append(player_names[random_index])\n",
    "                player_names.pop(random_index)\n",
    "\n",
    "                # Update the number of games played for the player\n",
    "                if players_played.get(players_playing[-1]):\n",
    "                    players_played[players_playing[-1]] += 1\n",
    "                else:\n",
    "                    players_played[players_playing[-1]] = 1\n",
    "\n",
    "            # Repeat the process one more time\n",
    "            for i in range(2):\n",
    "                random_index = random.randint(0, len(player_names) - 1)\n",
    "                players_playing.append(player_names[random_index])\n",
    "                player_names.pop(random_index)\n",
    "\n",
    "                # Update the number of games played for the player\n",
    "                if players_played.get(players_playing[-1]):\n",
    "                    players_played[players_playing[-1]] += 1\n",
    "                else:\n",
    "                    players_played[players_playing[-1]] = 1\n",
    "\n",
    "            # Print the first 2 names as team1 and next 2 names as team2\n",
    "            ###### BUG : always DISPLAYING first 4 PLAYERS ########\n",
    "            no_of_players_playing=len(players_playing)\n",
    "            print(\"Team 1:\", players_playing[no_of_players_playing-4], players_playing[no_of_players_playing-3])\n",
    "            print(\"Team 2:\", players_playing[no_of_players_playing-2], players_playing[no_of_players_playing-1])\n",
    "        else:\n",
    "            print(\"Not enough players to create 2 doubles teams. Select option to finish a game to add more players in the available pool.\")\n",
    "            \n",
    "    except NameError:\n",
    "        initialize()\n",
    "        select_players()\n",
    "\n",
    "\n",
    "def play_finished():\n",
    "    try:\n",
    "        global player_names\n",
    "        global players_playing\n",
    "\n",
    "        if len(players_playing) >= 1:\n",
    "\n",
    "            # Display the players_playing list\n",
    "            print(\"Players playing:\", players_playing)\n",
    "\n",
    "            # Accept input for comma separated player names\n",
    "            finished_players = input(\"Enter comma separated names of finished players: \")\n",
    "            finished_players = finished_players.lower()\n",
    "\n",
    "            # Convert the input string to a list of player names\n",
    "            finished_players = finished_players.split(',')\n",
    "\n",
    "            # Remove the finished players from the players_playing list\n",
    "            for player in finished_players:\n",
    "                players_playing.remove(player.strip())\n",
    "\n",
    "            # Add the finished players to the player_names list\n",
    "            for player in finished_players:\n",
    "                player_names.append(player.strip())\n",
    "\n",
    "            # Display the updated lists\n",
    "            players_status()\n",
    "        else:\n",
    "            print (\"No players playing at present. Can't execute\")\n",
    "    except NameError:\n",
    "        initialize()\n",
    "        play_finished()\n",
    "\n",
    "\n",
    "def players_status():\n",
    "    try:\n",
    "        global player_names\n",
    "        global players_playing\n",
    "\n",
    "        print_divider_plus()\n",
    "        print(\"Players playing:\", players_playing)\n",
    "        print_divider_line()\n",
    "        print(\"Players available:\", player_names)\n",
    "        print_divider_plus()\n",
    "        print(\"No of games played:\", players_played)\n",
    "        print_divider_plus()\n",
    "\n",
    "    except NameError:\n",
    "        initialize()\n",
    "        players_status()\n",
    "\n",
    "def show_options():        \n",
    "    while True:\n",
    "      print_divider_star()\n",
    "      print(\"\"\"Choose 1\n",
    "      1. Reset Players/Application\n",
    "      2. Select Players\n",
    "      3. Finish a game\n",
    "      4. Current Status of players\"\"\")\n",
    "      choice = int(input(\"Please select a number (1, 2, 3, 4) or 0 to exit: \"))\n",
    "      print_divider_star()\n",
    "      if choice == 0:\n",
    "        break\n",
    "      elif choice == 1:\n",
    "        initialize()\n",
    "      elif choice == 2:\n",
    "        select_players()\n",
    "      elif choice == 3:\n",
    "        play_finished()\n",
    "      elif choice == 4:\n",
    "        players_status()\n",
    "      else:\n",
    "        print(\"Invalid selection. Please try again.\")\n",
    "    print(\"Exiting the program.\")\n",
    "\n",
    "if __name__ == \"__main__\":\n",
    "    try:\n",
    "        show_options()\n",
    "    except ValueError:\n",
    "        print(\"Invalid selection. Please try again.\")\n",
    "        show_options()\n",
    "\n",
    "\n",
    "\n",
    "======================================\n",
    "============ New Version =============\n",
    "======================================\n",
    "\n",
    "import random\n",
    "from os import system, name\n",
    "\n",
    "# define our clear function\n",
    "def clear():\n",
    "    # for windows\n",
    "    if name == 'nt':\n",
    "        _ = system('cls')\n",
    "    # for mac and linux(here, os.name is 'posix')\n",
    "    else:\n",
    "        _ = system('clear')\n",
    "\n",
    "def print_divider_plus():\n",
    "    print (\"+++++++++++++++++++++++++++++\")\n",
    "    \n",
    "def print_divider_star():\n",
    "    print (\"*****************************\")\n",
    "\n",
    "def print_divider_line():\n",
    "    print (\"_____________________________\")\n",
    "\n",
    "\n",
    "def initialize():\n",
    "    global player_names\n",
    "    global players_playing\n",
    "    global players_played\n",
    "\n",
    "    player_names_list = ['anil','sudheer','pratik','asanghvi','yee','ashah','prashant','sunilt','bipin','pranay','sunilm']\n",
    "\n",
    "    player_names = [item.lower() for item in player_names_list]\n",
    "    players_playing = []\n",
    "    players_played = {}\n",
    "    print (\"Players List Reset\")\n",
    "    players_status()\n",
    "\n",
    "\n",
    "def select_players():\n",
    "    try:\n",
    "        # Check if player_names has at least 4 values\n",
    "        global player_names\n",
    "        global players_playing\n",
    "        if len(player_names) >= 4:\n",
    "\n",
    "            # Select 2 names at random and add them to the players_playing list\n",
    "            for i in range(2):\n",
    "                random_index = random.randint(0, len(player_names) - 1)\n",
    "                players_playing.append(player_names[random_index])\n",
    "                player_names.pop(random_index)\n",
    "\n",
    "            # Repeat the process one more time\n",
    "            for i in range(2):\n",
    "                random_index = random.randint(0, len(player_names) - 1)\n",
    "                players_playing.append(player_names[random_index])\n",
    "                player_names.pop(random_index)\n",
    "\n",
    "            # Print the first 2 names as team1 and next 2 names as team2\n",
    "            ###### BUG : ALWAYS DISPLAYING first 4 PLAYERS ########\n",
    "            no_of_players_playing=len(players_playing)\n",
    "            print(\"Team 1:\", players_playing[no_of_players_playing-4], players_playing[no_of_players_playing-3])\n",
    "            print(\"Team 2:\", players_playing[no_of_players_playing-2], players_playing[no_of_players_playing-1])\n",
    "        else:\n",
    "            print(\"Not enough players to create 2 doubles teams. Select option to finish a game to add more players in the available pool.\")\n",
    "            \n",
    "    except NameError:\n",
    "        initialize()\n",
    "        select_players()\n",
    "\n",
    "\n",
    "def play_finished():\n",
    "    try:\n",
    "        global player_names\n",
    "        global players_playing\n",
    "\n",
    "        if len(players_playing) >= 1:\n",
    "\n",
    "            # Display the players_playing list\n",
    "            print(\"Players playing:\", players_playing)\n",
    "\n",
    "            # Accept input for comma separated player names\n",
    "            finished_players = input(\"Enter comma separated names of finished players: \")\n",
    "            finished_players = finished_players.lower()\n",
    "\n",
    "            # Convert the input string to a list of player names\n",
    "            finished_players = finished_players.split(',')\n",
    "\n",
    "            # Remove the finished players from the players_playing list\n",
    "            for player in finished_players:\n",
    "                players_playing.remove(player.strip())\n",
    "\n",
    "            # Add the finished players to the player_names list\n",
    "            for player in finished_players:\n",
    "                player_names.append(player.strip())\n",
    "\n",
    "            # Display the updated lists\n",
    "            players_status()\n",
    "        else:\n",
    "            print (\"No players playing at present. Can't execute\")\n",
    "    except NameError:\n",
    "        initialize()\n",
    "        play_finished()\n",
    "\n",
    "\n",
    "def players_status():\n",
    "    try:\n",
    "        global player_names\n",
    "        global players_playing\n",
    "\n",
    "        print_divider_plus()\n",
    "        print(\"Players playing:\", players_playing)\n",
    "        print_divider_line()\n",
    "        print(\"Players available:\", player_names)\n",
    "        print_divider_plus()\n",
    "\n",
    "    except NameError:\n",
    "        initialize()\n",
    "        players_status()\n",
    "\n",
    "def show_options():        \n",
    "    while True:\n",
    "      print_divider_star()\n",
    "      print(\"\"\"Choose 1\n",
    "      1. Reset Players/Application\n",
    "      2. Select Players\n",
    "      3. Finish a game\n",
    "      4. Current Status of players\"\"\")\n",
    "      choice = int(input(\"Please select a number (1, 2, 3, 4) or 0 to exit: \"))\n",
    "      print_divider_star()\n",
    "      if choice == 0:\n",
    "        break\n",
    "      elif choice == 1:\n",
    "        initialize()\n",
    "      elif choice == 2:\n",
    "        select_players()\n",
    "      elif choice == 3:\n",
    "        play_finished()\n",
    "      elif choice == 4:\n",
    "        players_status()\n",
    "      else:\n",
    "        print(\"Invalid selection. Please try again.\")\n",
    "    print(\"Exiting the program.\")\n",
    "\n",
    "if __name__ == \"__main__\":\n",
    "    try:\n",
    "        show_options()\n",
    "    except ValueError:\n",
    "        print(\"Invalid selection. Please try again.\")\n",
    "        show_options()"
   ]
  },
  {
   "cell_type": "code",
   "execution_count": 704,
   "id": "ab301594-0795-4e2a-94d4-ef1e4981caad",
   "metadata": {},
   "outputs": [
    {
     "name": "stderr",
     "output_type": "stream",
     "text": [
      "/Library/Frameworks/Python.framework/Versions/3.9/lib/python3.9/site-packages/urllib3/connectionpool.py:1043: InsecureRequestWarning: Unverified HTTPS request is being made to host 'accounts.spotify.com'. Adding certificate verification is strongly advised. See: https://urllib3.readthedocs.io/en/1.26.x/advanced-usage.html#ssl-warnings\n",
      "  warnings.warn(\n"
     ]
    },
    {
     "ename": "Exception",
     "evalue": "CSRF token not found in the HTML",
     "output_type": "error",
     "traceback": [
      "\u001b[0;31m---------------------------------------------------------------------------\u001b[0m",
      "\u001b[0;31mException\u001b[0m                                 Traceback (most recent call last)",
      "Cell \u001b[0;32mIn[705], line 30\u001b[0m\n\u001b[1;32m     28\u001b[0m     csrf_token \u001b[38;5;241m=\u001b[39m csrf_token_element[\u001b[38;5;124m\"\u001b[39m\u001b[38;5;124mvalue\u001b[39m\u001b[38;5;124m\"\u001b[39m]\n\u001b[1;32m     29\u001b[0m \u001b[38;5;28;01melse\u001b[39;00m:\n\u001b[0;32m---> 30\u001b[0m     \u001b[38;5;28;01mraise\u001b[39;00m \u001b[38;5;167;01mException\u001b[39;00m(\u001b[38;5;124m\"\u001b[39m\u001b[38;5;124mCSRF token not found in the HTML\u001b[39m\u001b[38;5;124m\"\u001b[39m)\n\u001b[1;32m     32\u001b[0m \u001b[38;5;66;03m# Define the data to be sent in the login request\u001b[39;00m\n\u001b[1;32m     33\u001b[0m data \u001b[38;5;241m=\u001b[39m {\n\u001b[1;32m     34\u001b[0m     \u001b[38;5;124m\"\u001b[39m\u001b[38;5;124musername\u001b[39m\u001b[38;5;124m\"\u001b[39m: username,\n\u001b[1;32m     35\u001b[0m     \u001b[38;5;124m\"\u001b[39m\u001b[38;5;124mpassword\u001b[39m\u001b[38;5;124m\"\u001b[39m: password,\n\u001b[1;32m     36\u001b[0m     \u001b[38;5;124m\"\u001b[39m\u001b[38;5;124mcsrf_token\u001b[39m\u001b[38;5;124m\"\u001b[39m: csrf_token\n\u001b[1;32m     37\u001b[0m }\n",
      "\u001b[0;31mException\u001b[0m: CSRF token not found in the HTML"
     ]
    }
   ],
   "source": [
    "import requests\n",
    "from bs4 import BeautifulSoup\n",
    "\n",
    "# Define the login credentials\n",
    "username = \"dude123r24\"\n",
    "password = \"ocp1z0016\"\n",
    "\n",
    "# Define the login URL\n",
    "login_url = \"https://accounts.spotify.com/en/login\"\n",
    "\n",
    "# Define the headers for the requests\n",
    "headers = {\n",
    "    \"User-Agent\": \"Mozilla/5.0 (Windows NT 10.0; Win64; x64) AppleWebKit/537.36 (KHTML, like Gecko) Chrome/89.0.4389.82 Safari/537.36\"\n",
    "}\n",
    "\n",
    "# Create a session object to persist the session across requests\n",
    "session = requests.Session()\n",
    "\n",
    "# Get the initial login page to obtain the necessary cookies\n",
    "login_page = session.get(login_url, headers=headers)\n",
    "\n",
    "# Parse the HTML content of the login page\n",
    "soup = BeautifulSoup(login_page.content, \"html.parser\")\n",
    "\n",
    "# Find the csrf token in the HTML\n",
    "csrf_token_element = soup.find(\"input\", {\"name\": \"csrf_token\"})\n",
    "if csrf_token_element:\n",
    "    csrf_token = csrf_token_element[\"value\"]\n",
    "else:\n",
    "    raise Exception(\"CSRF token not found in the HTML\")\n",
    "\n",
    "# Define the data to be sent in the login request\n",
    "data = {\n",
    "    \"username\": username,\n",
    "    \"password\": password,\n",
    "    \"csrf_token\": csrf_token\n",
    "}\n",
    "\n",
    "# Make a POST request to log into the account\n",
    "session.post(login_url, headers=headers, data=data)\n",
    "\n",
    "# Define the URL to access the user's playlists\n",
    "playlists_url = \"https://open.spotify.com/collection/playlists\"\n",
    "\n",
    "# Get the HTML content of the playlists page\n",
    "playlists_page = session.get(playlists_url, headers=headers)\n",
    "\n",
    "# Parse the HTML content of the playlists page\n",
    "soup = BeautifulSoup(playlists_page.content, \"html.parser\")\n",
    "\n",
    "# Find all the playlist elements in the HTML\n",
    "playlist_elements = soup.find_all(\"li\", {\"class\": \"last-recommended-item\"})\n",
    "\n",
    "# Loop through the playlist elements and print the playlist names\n",
    "for playlist_element in playlist_elements:\n",
    "    playlist_name = playlist_element.find(\"a\", {\"class\": \"mo-info-name\"}).text\n",
    "    print(playlist_name)\n"
   ]
  },
  {
   "cell_type": "code",
   "execution_count": null,
   "id": "c9da5bd3-6979-4d29-be65-709f78d723ff",
   "metadata": {},
   "outputs": [],
   "source": []
  }
 ],
 "metadata": {
  "kernelspec": {
   "display_name": "Python 3 (ipykernel)",
   "language": "python",
   "name": "python3"
  },
  "language_info": {
   "codemirror_mode": {
    "name": "ipython",
    "version": 3
   },
   "file_extension": ".py",
   "mimetype": "text/x-python",
   "name": "python",
   "nbconvert_exporter": "python",
   "pygments_lexer": "ipython3",
   "version": "3.9.2"
  }
 },
 "nbformat": 4,
 "nbformat_minor": 5
}
